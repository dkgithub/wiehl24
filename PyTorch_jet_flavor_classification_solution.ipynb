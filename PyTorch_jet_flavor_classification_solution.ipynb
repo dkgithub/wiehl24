{
  "cells": [
    {
      "cell_type": "markdown",
      "metadata": {
        "id": "view-in-github",
        "colab_type": "text"
      },
      "source": [
        "<a href=\"https://colab.research.google.com/github/dkgithub/wiehl24/blob/main/PyTorch_jet_flavor_classification_solution.ipynb\" target=\"_parent\"><img src=\"https://colab.research.google.com/assets/colab-badge.svg\" alt=\"Open In Colab\"/></a>"
      ]
    },
    {
      "cell_type": "markdown",
      "metadata": {
        "id": "IduQrGpXTAlb"
      },
      "source": [
        "# Hands-on exercise for \"Mastering Model Building\"\n",
        "(inspired heavily by previous edition by M.Rieger and adapted to PyTorch)\n",
        "\n",
        "Before we start with the actual tutorial, the notebook needs to be quickly set up. For this, execute the next cell which installs some dependencies that are not deployed by default on colab. This should only take a couple seconds."
      ]
    },
    {
      "cell_type": "code",
      "execution_count": 1,
      "metadata": {
        "colab": {
          "base_uri": "https://localhost:8080/"
        },
        "id": "UryureMsrZAv",
        "outputId": "cfdcbf7a-ca40-4c09-a200-f3d4733ec641"
      },
      "outputs": [
        {
          "output_type": "stream",
          "name": "stdout",
          "text": [
            "Cloning into 'helpers'...\n",
            "remote: Enumerating objects: 23, done.\u001b[K\n",
            "remote: Counting objects: 100% (23/23), done.\u001b[K\n",
            "remote: Compressing objects: 100% (19/19), done.\u001b[K\n",
            "remote: Total 23 (delta 8), reused 10 (delta 3), pack-reused 0\u001b[K\n",
            "Receiving objects: 100% (23/23), 9.09 KiB | 9.09 MiB/s, done.\n",
            "Resolving deltas: 100% (8/8), done.\n",
            "Collecting wget\n",
            "  Downloading wget-3.2.zip (10 kB)\n",
            "  Preparing metadata (setup.py) ... \u001b[?25l\u001b[?25hdone\n",
            "Collecting livelossplot\n",
            "  Downloading livelossplot-0.5.5-py3-none-any.whl (22 kB)\n",
            "Collecting torchinfo\n",
            "  Downloading torchinfo-1.8.0-py3-none-any.whl (23 kB)\n",
            "Collecting torchmetrics\n",
            "  Downloading torchmetrics-1.3.0.post0-py3-none-any.whl (840 kB)\n",
            "\u001b[2K     \u001b[90m━━━━━━━━━━━━━━━━━━━━━━━━━━━━━━━━━━━━━━━━\u001b[0m \u001b[32m840.2/840.2 kB\u001b[0m \u001b[31m14.3 MB/s\u001b[0m eta \u001b[36m0:00:00\u001b[0m\n",
            "\u001b[?25hCollecting skorch\n",
            "  Downloading skorch-0.15.0-py3-none-any.whl (239 kB)\n",
            "\u001b[2K     \u001b[90m━━━━━━━━━━━━━━━━━━━━━━━━━━━━━━━━━━━━━━━━\u001b[0m \u001b[32m239.3/239.3 kB\u001b[0m \u001b[31m18.5 MB/s\u001b[0m eta \u001b[36m0:00:00\u001b[0m\n",
            "\u001b[?25hRequirement already satisfied: matplotlib in /usr/local/lib/python3.10/dist-packages (from livelossplot) (3.7.1)\n",
            "Requirement already satisfied: bokeh in /usr/local/lib/python3.10/dist-packages (from livelossplot) (3.3.4)\n",
            "Requirement already satisfied: numpy>1.20.0 in /usr/local/lib/python3.10/dist-packages (from torchmetrics) (1.23.5)\n",
            "Requirement already satisfied: packaging>17.1 in /usr/local/lib/python3.10/dist-packages (from torchmetrics) (23.2)\n",
            "Requirement already satisfied: torch>=1.10.0 in /usr/local/lib/python3.10/dist-packages (from torchmetrics) (2.1.0+cu121)\n",
            "Collecting lightning-utilities>=0.8.0 (from torchmetrics)\n",
            "  Downloading lightning_utilities-0.10.1-py3-none-any.whl (24 kB)\n",
            "Requirement already satisfied: scikit-learn>=0.22.0 in /usr/local/lib/python3.10/dist-packages (from skorch) (1.2.2)\n",
            "Requirement already satisfied: scipy>=1.1.0 in /usr/local/lib/python3.10/dist-packages (from skorch) (1.11.4)\n",
            "Requirement already satisfied: tabulate>=0.7.7 in /usr/local/lib/python3.10/dist-packages (from skorch) (0.9.0)\n",
            "Requirement already satisfied: tqdm>=4.14.0 in /usr/local/lib/python3.10/dist-packages (from skorch) (4.66.1)\n",
            "Requirement already satisfied: setuptools in /usr/local/lib/python3.10/dist-packages (from lightning-utilities>=0.8.0->torchmetrics) (67.7.2)\n",
            "Requirement already satisfied: typing-extensions in /usr/local/lib/python3.10/dist-packages (from lightning-utilities>=0.8.0->torchmetrics) (4.5.0)\n",
            "Requirement already satisfied: joblib>=1.1.1 in /usr/local/lib/python3.10/dist-packages (from scikit-learn>=0.22.0->skorch) (1.3.2)\n",
            "Requirement already satisfied: threadpoolctl>=2.0.0 in /usr/local/lib/python3.10/dist-packages (from scikit-learn>=0.22.0->skorch) (3.2.0)\n",
            "Requirement already satisfied: filelock in /usr/local/lib/python3.10/dist-packages (from torch>=1.10.0->torchmetrics) (3.13.1)\n",
            "Requirement already satisfied: sympy in /usr/local/lib/python3.10/dist-packages (from torch>=1.10.0->torchmetrics) (1.12)\n",
            "Requirement already satisfied: networkx in /usr/local/lib/python3.10/dist-packages (from torch>=1.10.0->torchmetrics) (3.2.1)\n",
            "Requirement already satisfied: jinja2 in /usr/local/lib/python3.10/dist-packages (from torch>=1.10.0->torchmetrics) (3.1.3)\n",
            "Requirement already satisfied: fsspec in /usr/local/lib/python3.10/dist-packages (from torch>=1.10.0->torchmetrics) (2023.6.0)\n",
            "Requirement already satisfied: triton==2.1.0 in /usr/local/lib/python3.10/dist-packages (from torch>=1.10.0->torchmetrics) (2.1.0)\n",
            "Requirement already satisfied: contourpy>=1 in /usr/local/lib/python3.10/dist-packages (from bokeh->livelossplot) (1.2.0)\n",
            "Requirement already satisfied: pandas>=1.2 in /usr/local/lib/python3.10/dist-packages (from bokeh->livelossplot) (1.5.3)\n",
            "Requirement already satisfied: pillow>=7.1.0 in /usr/local/lib/python3.10/dist-packages (from bokeh->livelossplot) (9.4.0)\n",
            "Requirement already satisfied: PyYAML>=3.10 in /usr/local/lib/python3.10/dist-packages (from bokeh->livelossplot) (6.0.1)\n",
            "Requirement already satisfied: tornado>=5.1 in /usr/local/lib/python3.10/dist-packages (from bokeh->livelossplot) (6.3.2)\n",
            "Requirement already satisfied: xyzservices>=2021.09.1 in /usr/local/lib/python3.10/dist-packages (from bokeh->livelossplot) (2023.10.1)\n",
            "Requirement already satisfied: cycler>=0.10 in /usr/local/lib/python3.10/dist-packages (from matplotlib->livelossplot) (0.12.1)\n",
            "Requirement already satisfied: fonttools>=4.22.0 in /usr/local/lib/python3.10/dist-packages (from matplotlib->livelossplot) (4.47.2)\n",
            "Requirement already satisfied: kiwisolver>=1.0.1 in /usr/local/lib/python3.10/dist-packages (from matplotlib->livelossplot) (1.4.5)\n",
            "Requirement already satisfied: pyparsing>=2.3.1 in /usr/local/lib/python3.10/dist-packages (from matplotlib->livelossplot) (3.1.1)\n",
            "Requirement already satisfied: python-dateutil>=2.7 in /usr/local/lib/python3.10/dist-packages (from matplotlib->livelossplot) (2.8.2)\n",
            "Requirement already satisfied: MarkupSafe>=2.0 in /usr/local/lib/python3.10/dist-packages (from jinja2->torch>=1.10.0->torchmetrics) (2.1.4)\n",
            "Requirement already satisfied: pytz>=2020.1 in /usr/local/lib/python3.10/dist-packages (from pandas>=1.2->bokeh->livelossplot) (2023.3.post1)\n",
            "Requirement already satisfied: six>=1.5 in /usr/local/lib/python3.10/dist-packages (from python-dateutil>=2.7->matplotlib->livelossplot) (1.16.0)\n",
            "Requirement already satisfied: mpmath>=0.19 in /usr/local/lib/python3.10/dist-packages (from sympy->torch>=1.10.0->torchmetrics) (1.3.0)\n",
            "Building wheels for collected packages: wget\n",
            "  Building wheel for wget (setup.py) ... \u001b[?25l\u001b[?25hdone\n",
            "  Created wheel for wget: filename=wget-3.2-py3-none-any.whl size=9655 sha256=e79060a165e91fc338e0bf5dbe088ea2a059882400e3ca697f1c0232350dbd2d\n",
            "  Stored in directory: /root/.cache/pip/wheels/8b/f1/7f/5c94f0a7a505ca1c81cd1d9208ae2064675d97582078e6c769\n",
            "Successfully built wget\n",
            "Installing collected packages: wget, torchinfo, lightning-utilities, torchmetrics, skorch, livelossplot\n",
            "Successfully installed lightning-utilities-0.10.1 livelossplot-0.5.5 skorch-0.15.0 torchinfo-1.8.0 torchmetrics-1.3.0.post0 wget-3.2\n"
          ]
        }
      ],
      "source": [
        "![ ! -d helpers ] && git clone --recursive https://github.com/dkgithub/erum_ml_school_helpers helpers\n",
        "!pip install wget livelossplot torchinfo torchmetrics skorch"
      ]
    },
    {
      "cell_type": "markdown",
      "metadata": {
        "id": "w86zqibfTAlf"
      },
      "source": [
        "To verify that the setup worked, run the next cell which imports the `helpers` package that we will use below. The tutors will gladly help you in case you spot an issue 😀"
      ]
    },
    {
      "cell_type": "code",
      "source": [
        "# load the helpers package and other software\n",
        "import helpers as hlp\n",
        "import numpy as np\n",
        "import matplotlib as mpl\n",
        "import matplotlib.pyplot as plt"
      ],
      "metadata": {
        "id": "odtxXlF_B7yz"
      },
      "execution_count": 2,
      "outputs": []
    },
    {
      "cell_type": "markdown",
      "metadata": {
        "id": "KyuDxu0gTAlg"
      },
      "source": [
        "No issues? Great 🎉!"
      ]
    },
    {
      "cell_type": "markdown",
      "metadata": {
        "id": "aJJXdDOLTAlg"
      },
      "source": [
        "# Jet classification using PyTorch"
      ]
    },
    {
      "cell_type": "markdown",
      "metadata": {
        "id": "xyYC8ORgTAlg"
      },
      "source": [
        "<br />\n",
        "<img src=\"https://github.com/dkgithub/wiehl24/blob/main/img/top.png?raw=true\" width=\"500\" >\n",
        "\n",
        "image: https://www.particlezoo.net/\n",
        "\n",
        "\n",
        "\n"
      ]
    },
    {
      "cell_type": "markdown",
      "metadata": {
        "id": "GFsjS-lWTAlg"
      },
      "source": [
        "# Introduction"
      ]
    },
    {
      "cell_type": "markdown",
      "metadata": {
        "id": "btlHuo-oTAlg"
      },
      "source": [
        "Our task will be to discriminate between jets produced by a hadronically decaying top quark (**top jet**), or jets produced by a light flavour quark or a gluon (**light / QCD jet**).\n",
        "Both hadronize into a large number of particles:\n",
        "\n",
        "<center><img src=\"https://github.com/riga/qu_tf_tutorial/blob/master/assets/top_vs_qcd.png?raw=1\" width=\"60%\"/></center>\n",
        "\n",
        "- Quark/gluon jets fragment into hadrons\n",
        "- Top quark decays first into three *sub jets* and fragment then into hadrons\n",
        "- But: at high momentum they may be merged\n",
        "\n",
        "→ Substructure might be resolvable by a NN and serve as a handle for classification!\n",
        "\n",
        "<img src=\"https://github.com/dkgithub/wiehl24/blob/main/img/boosted_top_decay.png?raw=1\" />\n"
      ]
    },
    {
      "cell_type": "markdown",
      "metadata": {
        "id": "3JZb1WB_TAlh"
      },
      "source": [
        "## Aim and scope of the tutorial\n",
        "\n",
        "You are given a dataset with information on > 1M jets, containing **kinematic observables** as well a **truth** label (a float value, either 0 or 1) that describes the origin of the jet. You can find more information on the input data in the cells below.\n",
        "\n",
        "**We will create a neural (NN) network model that, given a jet, uses its kinematic observables as input features to predict its most probable origin (\"class\" in ML terms)!**"
      ]
    },
    {
      "cell_type": "markdown",
      "metadata": {
        "id": "3uTQFKXbTAlh"
      },
      "source": [
        "## Extension\n",
        "\n",
        "In an **extension** of the tutorial, we will learn how to build a NN that serves multiple purposes at the same time. We will try to let the model also predict the four-vector of the initial quark - the actual physics object we are interested in for reconstructing the underlying hard interaction.\n",
        "\n",
        "---\n",
        "\n",
        "> The **main goal** is not to write a perfectly working model that is tailored for one specific use case, but rather to get hands-on experience with PyTorch and some of the fundamental concepts used in machine learning today."
      ]
    },
    {
      "cell_type": "markdown",
      "metadata": {
        "id": "dD4MlkHrTAlh"
      },
      "source": [
        "## Outline\n",
        "\n",
        "- Part 1: PyTorch introduction\n",
        "- Part 2: Refresher of NN terminology\n",
        "- Part 3: The tutorial dataset\n",
        "- Part 4: Minimal training and evaluation workflow\n",
        "- Part 5: Advanced training loop\n",
        "- Part 6 (opt.): Multi-target network"
      ]
    },
    {
      "cell_type": "markdown",
      "metadata": {
        "id": "dDJjW-cUTAlh"
      },
      "source": [
        "# Part 1: PyTorch"
      ]
    },
    {
      "cell_type": "markdown",
      "metadata": {
        "id": "5_V6A5WKTAli"
      },
      "source": [
        "## PyTorch ingredients\n",
        "\n",
        "1. NumPy-like array structure with torch **tensors**. See torch_tensor_tutorial_basics.ipynb"
      ]
    },
    {
      "cell_type": "code",
      "source": [
        "import torch\n",
        "torch.__version__"
      ],
      "metadata": {
        "colab": {
          "base_uri": "https://localhost:8080/",
          "height": 35
        },
        "id": "7SFG6QTg2Gea",
        "outputId": "75024296-45fb-4c66-cc38-17c62c5b55f9"
      },
      "execution_count": 4,
      "outputs": [
        {
          "output_type": "execute_result",
          "data": {
            "text/plain": [
              "'2.1.0+cu121'"
            ],
            "application/vnd.google.colaboratory.intrinsic+json": {
              "type": "string"
            }
          },
          "metadata": {},
          "execution_count": 4
        }
      ]
    },
    {
      "cell_type": "code",
      "execution_count": 5,
      "metadata": {
        "colab": {
          "base_uri": "https://localhost:8080/"
        },
        "id": "kK0Jxm_zTAli",
        "outputId": "2035aabe-cd74-4cd6-c0d8-a7a28cf8cdc2"
      },
      "outputs": [
        {
          "output_type": "stream",
          "name": "stdout",
          "text": [
            "tensor([0, 1, 2, 3, 4])\n",
            "tensor([0, 2, 4, 6, 8])\n",
            "torch.Size([5, 1]) torch.Size([1, 5])\n",
            "tensor([[ 0, -1, -2, -3, -4],\n",
            "        [ 1,  0, -1, -2, -3],\n",
            "        [ 2,  1,  0, -1, -2],\n",
            "        [ 3,  2,  1,  0, -1],\n",
            "        [ 4,  3,  2,  1,  0]])\n"
          ]
        }
      ],
      "source": [
        "t = torch.arange(5)\n",
        "print(t)\n",
        "\n",
        "# all elements * 2\n",
        "print(t * 2)\n",
        "\n",
        "# broadcasting as in numpy\n",
        "t=t[:,None] # None as index to extend number of dimension\n",
        "print(t.shape,t.T.shape)\n",
        "A=t-t.T # this is a matrix\n",
        "print(A)"
      ]
    },
    {
      "cell_type": "markdown",
      "metadata": {
        "id": "TLUCFN9sTAli"
      },
      "source": [
        "## PyTorch ingredients\n",
        "\n",
        "2. Built-in operation for neural network building ([docs](https://pytorch.org/docs/stable/nn.html))"
      ]
    },
    {
      "cell_type": "code",
      "source": [
        "# torch provides random numbers\n",
        "t = torch.randn((1,4,2))\n",
        "print(t.shape)\n",
        "print(t)\n",
        "\n",
        "# multiple activation functions\n",
        "print(torch.relu(t))\n",
        "print(torch.sigmoid(t))\n",
        "# There are multiple namespaces where activation functions appear.\n",
        "# By historic reasons ...\n",
        "print(torch.nn.functional.relu(t))\n",
        "# But different nn.ReLU() <- this is part of a neural net\n",
        "aRelu = torch.nn.ReLU()\n",
        "print(aRelu(t))\n",
        "\n",
        "# softmax along dim=2\n",
        "torch.softmax(t,dim=2)\n",
        "\n",
        "# a linear layer\n",
        "layer=torch.nn.Linear(2,2,bias=True)\n",
        "layer(t)"
      ],
      "metadata": {
        "colab": {
          "base_uri": "https://localhost:8080/"
        },
        "id": "hSZ3d2zxDDdd",
        "outputId": "bd758a07-b62b-426f-8b27-5311e2a602c3"
      },
      "execution_count": 12,
      "outputs": [
        {
          "output_type": "stream",
          "name": "stdout",
          "text": [
            "torch.Size([1, 4, 2])\n",
            "tensor([[[-0.1721, -1.2284],\n",
            "         [-1.6672, -1.6515],\n",
            "         [ 1.1636,  0.0159],\n",
            "         [ 1.3122,  0.2086]]])\n",
            "tensor([[[0.0000, 0.0000],\n",
            "         [0.0000, 0.0000],\n",
            "         [1.1636, 0.0159],\n",
            "         [1.3122, 0.2086]]])\n",
            "tensor([[[0.4571, 0.2265],\n",
            "         [0.1588, 0.1609],\n",
            "         [0.7620, 0.5040],\n",
            "         [0.7879, 0.5520]]])\n",
            "tensor([[[0.0000, 0.0000],\n",
            "         [0.0000, 0.0000],\n",
            "         [1.1636, 0.0159],\n",
            "         [1.3122, 0.2086]]])\n",
            "tensor([[[0.0000, 0.0000],\n",
            "         [0.0000, 0.0000],\n",
            "         [1.1636, 0.0159],\n",
            "         [1.3122, 0.2086]]])\n"
          ]
        },
        {
          "output_type": "execute_result",
          "data": {
            "text/plain": [
              "tensor([[[-1.1506, -0.2477],\n",
              "         [-0.7041,  0.0913],\n",
              "         [-1.1415, -0.1478],\n",
              "         [-1.1149, -0.1114]]], grad_fn=<ViewBackward0>)"
            ]
          },
          "metadata": {},
          "execution_count": 12
        }
      ]
    },
    {
      "cell_type": "code",
      "source": [
        "# torch numpy bridge\n",
        "# from_numpy\n",
        "np_array    = np.array([[1,2],[3,4]])\n",
        "torch_tensor = torch.from_numpy(np_array)\n",
        "print( type(torch_tensor), '\\n', torch_tensor)\n",
        "\n",
        "# and back\n",
        "# .numpy()\n",
        "print( type(torch_tensor.numpy()), '\\n', torch_tensor.numpy())"
      ],
      "metadata": {
        "colab": {
          "base_uri": "https://localhost:8080/"
        },
        "id": "nB-MQwk3HZaD",
        "outputId": "f0470cfe-a270-4ee1-fa56-d44a1927b177"
      },
      "execution_count": 13,
      "outputs": [
        {
          "output_type": "stream",
          "name": "stdout",
          "text": [
            "<class 'torch.Tensor'> \n",
            " tensor([[1, 2],\n",
            "        [3, 4]])\n",
            "<class 'numpy.ndarray'> \n",
            " [[1 2]\n",
            " [3 4]]\n"
          ]
        }
      ]
    },
    {
      "cell_type": "markdown",
      "metadata": {
        "id": "9AoCxeXUTAli"
      },
      "source": [
        "## PyTorch ingredients\n",
        "\n",
        "3. Most important **automatic differentiation** on regular python code. See autograd tutorial\n",
        " (torch_autograd_tutorial.ipynb)"
      ]
    },
    {
      "cell_type": "markdown",
      "metadata": {
        "id": "eWZxEwRlTAlj"
      },
      "source": [
        "## PyTorch ingredients\n",
        "\n",
        "Easy placement of tensors and models to computing device, e.g. GPU, MPS (Apple M1 etc.)\n",
        "\n",
        "```python\n",
        "if torch.cuda.is_available():\n",
        " dev = \"cuda:0\"\n",
        "else:\n",
        " dev = \"cpu\"\n",
        "device = torch.device(dev)\n",
        "\n",
        "# place a tensor\n",
        "a = torch.zeros(4,3)\n",
        "a = a.to(device)\n",
        "\n",
        "# place a network\n",
        "model = model.to(device)\n",
        "\n",
        "\n",
        "```\n"
      ]
    },
    {
      "cell_type": "code",
      "source": [
        "device = torch.device(\"cuda\" if torch.cuda.is_available() else \"cpu\")\n",
        "print('torch',torch.__version__)\n",
        "print('device type is',device)\n",
        "from os import environ\n",
        "if \"COLAB_TPU_ADDR\" in environ and environ[\"COLAB_TPU_ADDR\"]:\n",
        "  print(\"A TPU is connected.\")\n"
      ],
      "metadata": {
        "colab": {
          "base_uri": "https://localhost:8080/"
        },
        "id": "sXXk9HjBUQRL",
        "outputId": "3068b508-e856-488b-e361-78e9e933b5f4"
      },
      "execution_count": 14,
      "outputs": [
        {
          "output_type": "stream",
          "name": "stdout",
          "text": [
            "torch 2.1.0+cu121\n",
            "device type is cpu\n"
          ]
        }
      ]
    },
    {
      "cell_type": "markdown",
      "metadata": {
        "id": "DWgpNvX7TAlj"
      },
      "source": [
        "# Part 2: NN terminology refresher"
      ]
    },
    {
      "cell_type": "markdown",
      "metadata": {
        "id": "ZcBtgu8PTAlk"
      },
      "source": [
        "Before we dive in, let's quickly introduce a minimal set of NN terminology. Please note that a full introduction into machine learning would be too exhaustive at this point. For more insights, checkout one of the many resources that are publically available.\n",
        "\n",
        "One of many examples of a well written introduction that even includes code examples and interactive visualizations is the free online book at [neuralnetworksanddeeplearning.com](http://neuralnetworksanddeeplearning.com)."
      ]
    },
    {
      "cell_type": "markdown",
      "metadata": {
        "id": "POVINVibTAlk"
      },
      "source": [
        "<center><img src=\"https://github.com/riga/qu_tf_tutorial/blob/master/assets/nn_graph.png?raw=1\" width=\"60%\"/></center>"
      ]
    },
    {
      "cell_type": "markdown",
      "metadata": {
        "id": "1PJXgZfrTAlk"
      },
      "source": [
        "- NNs are structured into so-called **layers** that contain **units**.\n",
        "- We denote the **input layer** with $l = 0$, and the **output layer** with $l = L$.\n",
        "- When the number of input features we give to the network is $N$, then the input layer will have $N$ units.\n",
        "- The grey circles in the graph denote **bias units**. Their value is always one to allow for some numeric independence (see below).\n",
        "- These $N$ input values are **forward passed** to layer $l = 1$. We do not intend to directly feed values into it, nor do we manually extract its output values - hence we call it **hidden layer**.\n",
        "- The forward pass involves **weights** - these are free parameters, which are updated during training, and can be understood as *fit parameters*. NNs with O(100k) parameters are not uncommon!\n",
        "- The input to the *i-th* unit in layer $l = 1$, $z_i^l$, is simply the scalar product of the vector of input features and a vector of weights $W_{ij}^{l-1}$,\n",
        "\\begin{align}\n",
        "z_i^l &= \\sum_j W_{ij}^{l-1} \\cdot a_j^{l-1} + b_i^{l-1}\\\\\n",
        "\\Rightarrow z^l &= W^{l-1} \\cdot a^{l-1} + b^{l-1}\n",
        "\\end{align}\n",
        "where the bias unit is considered as an additional input with value 1, multiplied by the weight $b_j^{l-1}$. Each particular value of $W_{ij}^{l-1}$ and $b_j^{l-1}$ is represented by arrows in the diagram. The second line uses a **vectorized formulation** over all $1 \\leq j \\leq N$ inputs.\n",
        "- The output $a_i^l$ of this unit is the value of an [**activation** function](https://en.wikipedia.org/wiki/Activation_function) $\\sigma$, evaluated at its input $z_i^l$. This reads\n",
        "$$\n",
        "\\begin{align}\n",
        "a^l = \\sigma^l(z^l) = \\sigma_l(W^{l-1} \\cdot a^{l-1} + b^{l-1})\n",
        "\\end{align}\n",
        "$$\n",
        "in the vectorial form. The same function is applied to all units in the same layer.\n",
        "- Just like what we did with the input features, these output values can be propagated through the entire network up to the output layer $l = L$. Here, we choose a clever activation function to output the response $y$ that we like the network to learn (more on this later).\n",
        "- As a whole, we can see the network output $y$ as a function of $x$, given $W$ and $b$. Thus, we can write\n",
        "$$\n",
        "\\begin{align}\n",
        "y = y(x | \\underbrace{W,b}_{\\equiv\\ \\omega}) = \\underbrace{(a^L \\circ a^{L-1} \\circ \\dots \\circ a^1)_\\omega}_\\text{model} (x)\n",
        "\\end{align}\n",
        "$$\n",
        "and identify the **model** as the concatenation of all layers given the free parameters $\\omega$.\n",
        "- Besides the clear mathematical construction and rules to perform the forward pass, you might notice some *room for choices*, such as the number of hidden layers, the amount of units per layer, or the activation functions. These are called **hyper-parameters** and it is your task to understand your input data as well as the problem you want to solve, and adjust these parameters in a educated fashion to optimize the network performance.\n",
        "- It is this exploration of the huge **space** of hyper-parameters what makes working with NNs complex and exciting at the same time 🎭!"
      ]
    },
    {
      "cell_type": "markdown",
      "metadata": {
        "id": "ekTsji24TAlk"
      },
      "source": [
        "## Training, overtraining and data splitting"
      ]
    },
    {
      "cell_type": "markdown",
      "metadata": {
        "id": "blvgBIl-TAll"
      },
      "source": [
        "## Network training\n",
        "\n",
        "A comprehensive desription and explanantion of the *art* of NN training requires a collection of concepts and mathematical proofs that would by far reach beyond the scope of this tutorial. However, if you intend to apply machine learning techniques in the future, it is **highly recommended** to dive into this fascinating topic. Especially the formulation and proof of the **backpropagation** algorithm is of major importance as it paved the way of actual **deep** neural networks! A good place to start is the free online book at [neuralnetworksanddeeplearning.com](http://neuralnetworksanddeeplearning.com)."
      ]
    },
    {
      "cell_type": "markdown",
      "metadata": {
        "id": "m0rb6qXyTAlm"
      },
      "source": [
        "## Overtraining\n",
        "\n",
        "During training, a NN receives *examples* in the form of vectors of input features and produces a prediction which can be compared to the *true* value one would expect. Based on the difference between prediction and expectation (in whatever way *difference* is defined), the network receives an either good or bad feedback that is used to update its trainable parameters, ideally leading to an improvement in the next iteration.\n",
        "\n",
        "However, this process can have some caveats! When the amount of available training examples is very limited, chances are that they might not describe underlying probability distributions with sufficient precision. As a result, the NN might start to develop a bias towards this particular set of examples. Then, after the training phase, when the NN is requested to evaluate examples that it never *saw* before, its ability to infer predictions might differ greatly from what you observed during training. The model fails to **generalize**, which is referred to as **overtraining**."
      ]
    },
    {
      "cell_type": "markdown",
      "metadata": {
        "id": "6wQk79jfTAln"
      },
      "source": [
        "## Network capacity\n",
        "\n",
        "<center><img src=\"https://github.com/riga/qu_tf_tutorial/blob/master/assets/nn_capacity.png?raw=1\" width=\"60%\"/></center>"
      ]
    },
    {
      "cell_type": "markdown",
      "metadata": {
        "id": "9EnozDFcTAln"
      },
      "source": [
        "## Data splitting\n",
        "\n",
        "There are several techniques to monitor and prevent overtraining. One **mandatory** monitoring technique is data splitting. In its easiest form, the entirety of examples is split into three datasets:\n",
        "\n",
        "- The *training* dataset is used for the actual training procedure.\n",
        "- The *validation* dataset is **not** used **for** the training itself, but **during** the training to immediately monitor the NN's ability to generalize.\n",
        "- All actual measurements are performed on an independent *testing* dataset.\n",
        "\n",
        "This splitting is applied throughout this exercise!"
      ]
    },
    {
      "cell_type": "markdown",
      "metadata": {
        "id": "9f9l2d_2TAln"
      },
      "source": [
        "# Part 3: Tutorial dataset"
      ]
    },
    {
      "cell_type": "markdown",
      "metadata": {
        "id": "7yhETp2YTAln"
      },
      "source": [
        "The input data for this tutorial consists of 1 million jets, originating from either\n",
        "  - hadronically decaying top quarks (our **signal** ✔︎), or\n",
        "  - dijet QCD events (our **background** ✘),\n",
        "\n",
        "and clustered using the $k_{T}$ algorithm with $\\Delta R$ = 0.8.\n",
        "\n",
        "<br />\n",
        "\n",
        "Data was generated using Phythia & Delphes, configured\n",
        "  - to collide protons at 14 TeV center-of-mass energy,\n",
        "  - to generate jets with a $p_{T}$ range of [550, 650] GeV (before hadronization ❗️), and\n",
        "  - **without** mixing in pileup events for simplicity."
      ]
    },
    {
      "cell_type": "markdown",
      "metadata": {
        "id": "yBuAExTtTAln"
      },
      "source": []
    },
    {
      "cell_type": "markdown",
      "metadata": {
        "id": "Hi3NvZjQTAlo"
      },
      "source": [
        "### Input features\n",
        "\n",
        "Per jet, you are given the four-vectors of up to **200** of its *constituents* (i.e., the particles that form the jet by means of clustering).\n",
        "\n",
        "   - These up to 800 values define your **input features**.\n",
        "   - Note that not all jets have that many constituents❗️\n",
        "   - To spare you the trouble of working with uneven (so-called *jagged*) arrays, these \"missing\" constituents vectors are filled with zeros."
      ]
    },
    {
      "cell_type": "markdown",
      "metadata": {
        "id": "5H2AFUFNTAlo"
      },
      "source": [
        "### Training targets\n",
        "\n",
        "Per jet, you are provided 2 different training targets:\n",
        "\n",
        "  1. A flag that marks the true origin of the jet\n",
        "    - `1` for jets from top quark decays\n",
        "    - `0` for light jets from QCD events\n",
        "  2. The true four-vector of the initial particle (only for top quarks)\n",
        "\n",
        "For now, we will focus on the **1.** training target to perform a *classification* to answer the question: **Top or not?**\n",
        "\n",
        "(Spoiler: the second target is used later on to include an energy regression 🤫)"
      ]
    },
    {
      "cell_type": "markdown",
      "metadata": {
        "id": "R5LfKWrjTAlo"
      },
      "source": [
        "## Diving into the data\n",
        "\n",
        "Let's check out the data! It is stored in NumPy arrays across several files, with 50k jets per file. This way, prototyping and test runs are way quicker. You are given\n",
        "\n",
        "- 20 training files (`\"train\"`)\n",
        "- 8 validation files (`\"valid\"`)\n",
        "- 8 testing files (`\"test\"`)\n",
        "\n",
        "A few tools to perform recurrent tasks such as data loading are available in the dedicated `qutf` package. Let's import all packages we need during this tutorial and load two training files and inspect the contents.\n",
        "\n",
        "(you can neglect messages from matplotlib about creating the font cache)"
      ]
    },
    {
      "cell_type": "code",
      "execution_count": 15,
      "metadata": {
        "colab": {
          "base_uri": "https://localhost:8080/"
        },
        "id": "MXRqDckUTAlo",
        "outputId": "fc7da798-0ffd-460e-b383-8ecc3fda88e0"
      },
      "outputs": [
        {
          "output_type": "execute_result",
          "data": {
            "text/plain": [
              "((100000, 200, 4), (100000, 4), (100000,))"
            ]
          },
          "metadata": {},
          "execution_count": 15
        }
      ],
      "source": [
        "# load the content of two \"train\" files - may take a few minutes on first loadin\n",
        "# these are numpy arrays\n",
        "c_vectors, true_vectors, labels = hlp.data.load(\"train\", start_file=0, stop_file=2)\n",
        "c_vectors.shape, true_vectors.shape, labels.shape"
      ]
    },
    {
      "cell_type": "markdown",
      "metadata": {
        "id": "LjGagrkyTAlp"
      },
      "source": [
        "All arrays have 100k (2 files x 50k jets) *rows* (dimension 0).\n",
        "\n",
        "- Per jet, we have up to 200 constituents (`c_vectors`) with 4 variables ($E$, $p_x$, $p_y$, $p_z$) each, thus `(200, 4)`.\n",
        "- The initiating quark `true_vectors` only has 4 values per jet = one 4-vector.\n",
        "- The `labels`, however, are single values: 0 or 1.\n",
        "\n",
        "Let's create a few plots to get some insights into our data."
      ]
    },
    {
      "cell_type": "code",
      "execution_count": 10,
      "metadata": {
        "id": "14v5yb7aTAlp"
      },
      "outputs": [],
      "source": [
        "# define some flags to make four-vector element access more verbose\n",
        "E, PX, PY, PZ = range(4)\n",
        "jet_names = (\"Top jet\", \"QCD jets\")\n",
        "is_top = labels == 1\n",
        "is_qcd = labels != 1"
      ]
    },
    {
      "cell_type": "markdown",
      "metadata": {
        "id": "MEMuBuDiTAlp"
      },
      "source": [
        "## Truth distributions"
      ]
    },
    {
      "cell_type": "code",
      "execution_count": 46,
      "metadata": {
        "colab": {
          "base_uri": "https://localhost:8080/",
          "height": 445
        },
        "id": "mf4aERjOTAlp",
        "outputId": "caf00748-dab5-4c09-94a1-78adf8092eed"
      },
      "outputs": [
        {
          "output_type": "display_data",
          "data": {
            "text/plain": [
              "<Figure size 640x480 with 1 Axes>"
            ],
            "image/png": "[encoded data removed]"
          },
          "metadata": {}
        }
      ],
      "source": [
        "# distribution of truth labels\n",
        "hlp.plots.plot_hist(\n",
        "    (labels[is_top], labels[is_qcd]),\n",
        "    range=(0, 1),\n",
        "    names=jet_names,\n",
        "    xlabel=\"Label distribution\",\n",
        ").show()"
      ]
    },
    {
      "cell_type": "code",
      "execution_count": 47,
      "metadata": {
        "colab": {
          "base_uri": "https://localhost:8080/",
          "height": 445
        },
        "id": "RU_rjyQOTAlp",
        "outputId": "4584c30a-8eea-4a78-f2a7-7bee1f8deed5"
      },
      "outputs": [
        {
          "output_type": "display_data",
          "data": {
            "text/plain": [
              "<Figure size 640x480 with 1 Axes>"
            ],
            "image/png": "[encoded data removed]"
          },
          "metadata": {}
        }
      ],
      "source": [
        "# energy distribution of the true top quark particle\n",
        "# remember, this is only available for top jets (zero otherwise)\n",
        "hlp.plots.plot_hist(\n",
        "    true_vectors[is_top, E],\n",
        "    names=(\"Top jets\",),\n",
        "    xlabel=\"True energy / GeV\",\n",
        ").show()"
      ]
    },
    {
      "cell_type": "code",
      "source": [
        "# energy distribution of the true top quark particle with a log scale\n",
        "hlp.plots.plot_hist(\n",
        "    true_vectors[is_top, E],\n",
        "    names=(\"Top jets\",),\n",
        "    xlabel=\"True energy / GeV\",\n",
        "    log=True\n",
        ").show()"
      ],
      "metadata": {
        "colab": {
          "base_uri": "https://localhost:8080/",
          "height": 445
        },
        "id": "lozNhMi-Q976",
        "outputId": "0d674fcd-e617-4ce3-dbbd-d74ee4241f78"
      },
      "execution_count": 48,
      "outputs": [
        {
          "output_type": "display_data",
          "data": {
            "text/plain": [
              "<Figure size 640x480 with 1 Axes>"
            ],
            "image/png": "[encoded data removed]"
          },
          "metadata": {}
        }
      ]
    },
    {
      "cell_type": "code",
      "execution_count": 49,
      "metadata": {
        "colab": {
          "base_uri": "https://localhost:8080/",
          "height": 448
        },
        "id": "PDpDDmJ-TAlp",
        "outputId": "77aa3123-6dff-438d-e0ca-9f1aaa884f36"
      },
      "outputs": [
        {
          "output_type": "display_data",
          "data": {
            "text/plain": [
              "<Figure size 640x480 with 1 Axes>"
            ],
            "image/png": "[encoded data removed]"
          },
          "metadata": {}
        }
      ],
      "source": [
        "# px distribution of the true particle\n",
        "hlp.plots.plot_hist(\n",
        "    true_vectors[is_top, PX],\n",
        "    names=(\"Top jets\",),\n",
        "    xlabel=\"True $p_x$ / GeV\",\n",
        ").show()"
      ]
    },
    {
      "cell_type": "code",
      "execution_count": 50,
      "metadata": {
        "colab": {
          "base_uri": "https://localhost:8080/",
          "height": 445
        },
        "id": "PHNwp_bBTAlq",
        "outputId": "8ff10175-9b0f-4dec-d338-cd07666534c0",
        "scrolled": true
      },
      "outputs": [
        {
          "output_type": "display_data",
          "data": {
            "text/plain": [
              "<Figure size 640x480 with 1 Axes>"
            ],
            "image/png": "[encoded data removed]"
          },
          "metadata": {}
        }
      ],
      "source": [
        "# mass distribution of the true particle\n",
        "mass = (true_vectors[:, E]**2 - np.sum(true_vectors[:, PX:]**2, axis=1))**0.5\n",
        "hlp.plots.plot_hist(\n",
        "    mass[is_top],\n",
        "    names=(\"Top jets\",),\n",
        "    xlabel=\"True mass / GeV\",\n",
        "    log=False,\n",
        ").show()"
      ]
    },
    {
      "cell_type": "markdown",
      "metadata": {
        "id": "HhE4I9xnTAlq"
      },
      "source": [
        "This is indeed a top quark! (it should have a mass of ~172.76 GeV)"
      ]
    },
    {
      "cell_type": "markdown",
      "metadata": {
        "id": "MBnOnbb5TAlq"
      },
      "source": [
        "## Input feature distributions"
      ]
    },
    {
      "cell_type": "code",
      "execution_count": 51,
      "metadata": {
        "colab": {
          "base_uri": "https://localhost:8080/",
          "height": 445
        },
        "id": "UvsvWrS5TAlq",
        "outputId": "e4ab0936-5efa-4e13-ffcf-c25700ae3ef1",
        "scrolled": true
      },
      "outputs": [
        {
          "output_type": "display_data",
          "data": {
            "text/plain": [
              "<Figure size 640x480 with 1 Axes>"
            ],
            "image/png": "[encoded data removed]"
          },
          "metadata": {}
        }
      ],
      "source": [
        "# energy distribution of all constituents\n",
        "e_c_top = c_vectors[is_top, :, E].flatten()\n",
        "e_c_qcd = c_vectors[is_qcd, :, E].flatten()\n",
        "# store a mask to remove zeros\n",
        "non_zero_top = e_c_top != 0\n",
        "non_zero_qcd = e_c_qcd != 0\n",
        "\n",
        "hlp.plots.plot_hist(\n",
        "    (e_c_top[non_zero_top], e_c_qcd[non_zero_qcd]),\n",
        "    names=jet_names,\n",
        "    log=True,\n",
        "    xlabel=\"Constituents energy / GeV\",\n",
        ").show()"
      ]
    },
    {
      "cell_type": "code",
      "execution_count": 52,
      "metadata": {
        "colab": {
          "base_uri": "https://localhost:8080/",
          "height": 449
        },
        "id": "QTtObz-gTAlq",
        "outputId": "640d7af1-8cc4-4e7d-9747-4ffd8f2698f0"
      },
      "outputs": [
        {
          "output_type": "display_data",
          "data": {
            "text/plain": [
              "<Figure size 640x480 with 1 Axes>"
            ],
            "image/png": "[encoded data removed]"
          },
          "metadata": {}
        }
      ],
      "source": [
        "# px distribution of all constituents, zeros removed with the mask defined above\n",
        "px_c_top = c_vectors[is_top, :, PX].flatten()\n",
        "px_c_qcd = c_vectors[is_qcd, :, PX].flatten()\n",
        "\n",
        "hlp.plots.plot_hist(\n",
        "    (px_c_top[non_zero_top], px_c_qcd[non_zero_qcd]),\n",
        "    names=jet_names,\n",
        "    log=True,\n",
        "    xlabel=\"Constituents $p_x$ / GeV\",\n",
        ").show()"
      ]
    },
    {
      "cell_type": "code",
      "source": [],
      "metadata": {
        "id": "dY5N32VcMFNb"
      },
      "execution_count": null,
      "outputs": []
    },
    {
      "cell_type": "code",
      "execution_count": 53,
      "metadata": {
        "colab": {
          "base_uri": "https://localhost:8080/",
          "height": 449
        },
        "id": "zWZSpc1yTAlq",
        "outputId": "6bbb066e-3f8c-421b-8413-86f0157b67e9"
      },
      "outputs": [
        {
          "output_type": "display_data",
          "data": {
            "text/plain": [
              "<Figure size 640x480 with 1 Axes>"
            ],
            "image/png": "[encoded data removed]"
          },
          "metadata": {}
        }
      ],
      "source": [
        "# pz distribution of all constituents\n",
        "pz_c_top = c_vectors[is_top, :, PZ].flatten()\n",
        "pz_c_qcd = c_vectors[is_qcd, :, PZ].flatten()\n",
        "hlp.plots.plot_hist(\n",
        "    (pz_c_top[non_zero_top], pz_c_qcd[non_zero_qcd]),\n",
        "    names=jet_names,\n",
        "    log=True,\n",
        "    xlabel=\"Constituents $p_z$ / GeV\",\n",
        ").show()"
      ]
    },
    {
      "cell_type": "code",
      "execution_count": 54,
      "metadata": {
        "colab": {
          "base_uri": "https://localhost:8080/",
          "height": 445
        },
        "id": "Mz21ts-ETAlq",
        "outputId": "ffd18f54-5a4f-4b5a-db09-534cb433daa5"
      },
      "outputs": [
        {
          "output_type": "display_data",
          "data": {
            "text/plain": [
              "<Figure size 640x480 with 1 Axes>"
            ],
            "image/png": "[encoded data removed]"
          },
          "metadata": {}
        }
      ],
      "source": [
        "# number of constituents per jet\n",
        "# remember, missing constituents are filled with zeros, so we take the energy value as a marker\n",
        "n_c_top = np.count_nonzero(c_vectors[is_top, :, E], axis=1)\n",
        "n_c_qcd = np.count_nonzero(c_vectors[is_qcd, :, E], axis=1)\n",
        "hlp.plots.plot_hist((n_c_top, n_c_qcd), names=jet_names, xlabel=\"N constituents per jet\").show()"
      ]
    },
    {
      "cell_type": "markdown",
      "metadata": {
        "id": "Pm1M-8R7TAlq"
      },
      "source": [
        "## Lessons learned\n",
        "\n",
        "Altough you were promised *up to* 200 constituents per jet, only a few of them seem to have more than 100 constituents!\n",
        "\n",
        "Ok, so now that we understood the data, it would not make sense to include all these zeros in a network training. We can safely pick only the first, say, **120 constituents**."
      ]
    },
    {
      "cell_type": "markdown",
      "metadata": {
        "id": "oam-GShgTAlr"
      },
      "source": [
        "# Part 4: Minimal training and evaluation workflow"
      ]
    },
    {
      "cell_type": "markdown",
      "source": [
        "In PyTorch the deep learning *mechanics* is easily visible. We must\n",
        "* Construct the **learning loop** explicitly,\n",
        "  * Here, the torch **dataloader** is used\n",
        "* Define an **optimizer**,\n",
        "* Calculate the **loss**,\n",
        "* Calculate and apply the **gradient**\n",
        "* Check the loss development, accuracy etc."
      ],
      "metadata": {
        "id": "yg13DaRNdwIQ"
      }
    },
    {
      "cell_type": "markdown",
      "metadata": {
        "id": "UlUvlhZwTAlr"
      },
      "source": [
        "Before we study the possible improvements, we define a base model as starting point.\n"
      ]
    },
    {
      "cell_type": "code",
      "execution_count": 48,
      "metadata": {
        "id": "O1b61B7UTAlr"
      },
      "outputs": [],
      "source": [
        "# first, we define a preprocessing function that (e.g.) takes the\n",
        "# constiuents and returns an other representation of them\n",
        "# in this case, we select only the first 120 constituents and\n",
        "# flatten the resulting array from (..., 120, 4) to (..., 480,)\n",
        "# i.e. we just apply a simple feedforward network and all constituents\n",
        "# are treated equally\n",
        "def preprocess_constituents(constituents):\n",
        "    return constituents[:, :120].reshape((-1, 480))\n",
        "# def preprocess_constituents(constituents):\n",
        "#     metric = np.array([1.,-1,-1,-1])[None,None,:]\n",
        "#     sum4jet = c_vectors_valid.sum(axis=1)[:,None,:]\n",
        "#     m2ij=(c_vectors*metric*sum4).sum(axis=2)\n",
        "#     return m2ij.reshape((-1, 400))"
      ]
    },
    {
      "cell_type": "code",
      "source": [
        "# also, for the training we need to convert the label to a \"one-hot\" representation\n",
        "# 0. -> [1., 0.]\n",
        "# 1. -> [0., 1.]\n",
        "def labels_to_onehot(labels):\n",
        "    labels = labels.astype(np.int32)\n",
        "    onehot = np.zeros((labels.shape[0], labels.max() + 1), dtype=np.float32)\n",
        "    onehot[np.arange(labels.shape[0]), labels] = 1\n",
        "    return onehot"
      ],
      "metadata": {
        "id": "YfkVMOJNaX30"
      },
      "execution_count": 59,
      "outputs": []
    },
    {
      "cell_type": "code",
      "execution_count": 107,
      "metadata": {
        "id": "1q1ChW4TTAlr"
      },
      "outputs": [],
      "source": [
        "# load more training, and also validation data\n",
        "# (increase the numbers if your system allows it)\n",
        "c_vectors_train, _, labels_train = hlp.data.load(\"train\", stop_file=8)\n",
        "c_vectors_valid, _, labels_valid = hlp.data.load(\"valid\", stop_file=2)\n",
        "\n",
        "# run the preprocessing\n",
        "c_vectors_train = preprocess_constituents(c_vectors_train)\n",
        "c_vectors_valid = preprocess_constituents(c_vectors_valid)\n",
        "\n",
        "#\n",
        "from sklearn.preprocessing import MinMaxScaler, StandardScaler, PowerTransformer\n",
        "#scaler = MinMaxScaler() # fast, not optimal\n",
        "scaler = StandardScaler() # fast and reasonable\n",
        "scaler.fit(c_vectors_train)\n",
        "c_vectors_train = scaler.transform(c_vectors_train)\n",
        "c_vectors_valid = scaler.transform(c_vectors_valid)\n",
        "\n",
        "labels_train = labels_to_onehot(labels_train)\n",
        "labels_valid = labels_to_onehot(labels_valid)\n"
      ]
    },
    {
      "cell_type": "code",
      "source": [
        "# We created torch tensors from numpy arrays, map to float32 and move to GPU if available\n",
        "\n",
        "c_tensor_train      = torch.from_numpy(c_vectors_train).float().to(device)\n",
        "label_tensor_train  = torch.from_numpy(labels_train).float().to(device)\n",
        "\n",
        "c_tensor_valid      = torch.from_numpy(c_vectors_valid).float().to(device)\n",
        "label_tensor_valid  = torch.from_numpy(labels_valid).float().to(device)"
      ],
      "metadata": {
        "id": "bh_qupRfbTl_"
      },
      "execution_count": 109,
      "outputs": []
    },
    {
      "cell_type": "code",
      "source": [
        "c_vectors_train.shape, label_tensor_train.shape"
      ],
      "metadata": {
        "colab": {
          "base_uri": "https://localhost:8080/"
        },
        "id": "O6gWu35mVDhu",
        "outputId": "f10ddf86-984a-4cf0-f88f-1ba60d0f0471"
      },
      "execution_count": 110,
      "outputs": [
        {
          "output_type": "execute_result",
          "data": {
            "text/plain": [
              "((400000, 480), torch.Size([400000, 2]))"
            ]
          },
          "metadata": {},
          "execution_count": 110
        }
      ]
    },
    {
      "cell_type": "code",
      "source": [
        "# Then, we create a dataset from our tensors\n",
        "# dataset: a special torch data structure that can be used within a dataloader\n",
        "\n",
        "dataset_train = torch.utils.data.TensorDataset(c_tensor_train,label_tensor_train)"
      ],
      "metadata": {
        "id": "P5d8VjBea4ur"
      },
      "execution_count": 111,
      "outputs": []
    },
    {
      "cell_type": "code",
      "source": [
        "# Next, we build the the dataloader\n",
        "\n",
        "batch_size=500\n",
        "train_loader  = torch.utils.data.DataLoader(dataset_train, batch_size=batch_size, shuffle = True)\n",
        "n_inner=float(len(train_loader))\n",
        "\n",
        "print(f'The dataloader is able to produce {int(n_inner):3d} batches of {batch_size} data points each.')"
      ],
      "metadata": {
        "colab": {
          "base_uri": "https://localhost:8080/"
        },
        "id": "IE24iR8wajnN",
        "outputId": "fdd0e731-dd73-4080-9a5a-9de93b57a438"
      },
      "execution_count": 112,
      "outputs": [
        {
          "output_type": "stream",
          "name": "stdout",
          "text": [
            "The dataloader is able to produce 800 batches of 500 data points each.\n"
          ]
        }
      ]
    },
    {
      "cell_type": "markdown",
      "source": [
        "The easiest way in PyTorch to create a simple network is the *Sequential class*. Complex models are typically defined as a special derived classes."
      ],
      "metadata": {
        "id": "kS8NijjETCMp"
      }
    },
    {
      "cell_type": "code",
      "execution_count": 128,
      "metadata": {
        "id": "28HRhljOTAlr",
        "colab": {
          "base_uri": "https://localhost:8080/"
        },
        "outputId": "985e46e4-1715-44a7-edce-64e19d442683"
      },
      "outputs": [
        {
          "output_type": "execute_result",
          "data": {
            "text/plain": [
              "=================================================================\n",
              "Layer (type:depth-idx)                   Param #\n",
              "=================================================================\n",
              "Sequential                               --\n",
              "├─Linear: 1-1                            123,136\n",
              "├─ReLU: 1-2                              --\n",
              "├─BatchNorm1d: 1-3                       512\n",
              "├─Linear: 1-4                            32,896\n",
              "├─ReLU: 1-5                              --\n",
              "├─Linear: 1-6                            258\n",
              "=================================================================\n",
              "Total params: 156,802\n",
              "Trainable params: 156,802\n",
              "Non-trainable params: 0\n",
              "================================================================="
            ]
          },
          "metadata": {},
          "execution_count": 128
        }
      ],
      "source": [
        "import torch\n",
        "import torchinfo # for nice model summary\n",
        "\n",
        "# define the model\n",
        "# - 2 hidden layers\n",
        "# - 128 units each\n",
        "# - tanh activation\n",
        "# - 2 output units with softmax activation\n",
        "\n",
        "model = torch.nn.Sequential(\n",
        "    torch.nn.Linear(480, 256, bias=True),\n",
        "    torch.nn.Tanh(),\n",
        "    #torch.nn.BatchNorm1d(256),\n",
        "    torch.nn.Linear(256, 128, bias=True),\n",
        "    torch.nn.Tanh(),\n",
        "    torch.nn.Linear(128,   1, bias=True),\n",
        "    torch.nn.Sigmoid(),\n",
        ")\n",
        "\n",
        "model = torch.nn.Sequential(\n",
        "    torch.nn.Linear(480, 256, bias=True),#Epoch 29 (266.53sec) av_loss  0.43 validation loss  0.44 acc  78.47%\n",
        "    torch.nn.ReLU(),\n",
        "    torch.nn.BatchNorm1d(256),\n",
        "    #torch.nn.Dropout(p=0.2),\n",
        "    torch.nn.Linear(256, 128, bias=True),\n",
        "    torch.nn.ReLU(),\n",
        "    torch.nn.Linear(128,   2, bias=True),\n",
        "    #torch.nn.Sigmoid(),\n",
        "    #torch.nn.Softmax(dim=-1)\n",
        ")\n",
        "\n",
        "# if available, move the model to the GPU\n",
        "model = model.to(device)\n",
        "torchinfo.summary(model)"
      ]
    },
    {
      "cell_type": "markdown",
      "source": [
        "Now we are prepared to build the trainings loop. All the elements of the stochastic gradient descent are visible.\n",
        "* At start, all gradients are set to zero\n",
        "* The batch is read in\n",
        "* The network is applied to the batch\n",
        "* The prediction of the network is compared to the truth by the loss\n",
        "* Automatic differentiation is applied to the loss\n",
        "to calculate the gradients of all trainable parameters\n",
        "* The gradients times learning rate etc. is applied by the optimizer to the network to update weights and biases\n",
        "* The process is repeated untill all data is processed (one epoch)\n",
        "* The complete data is reused for a certain number of epochs"
      ],
      "metadata": {
        "id": "u_SDrqBfakra"
      }
    },
    {
      "cell_type": "markdown",
      "source": [
        "## Training Loop"
      ],
      "metadata": {
        "id": "f9xQT9IKBRJJ"
      }
    },
    {
      "cell_type": "code",
      "source": [
        "from time import time\n",
        "def accuracy(pred_labels,true_labels):\n",
        "  equal=torch.argmax(yp,dim=1)==torch.argmax(label_tensor_valid,dim=1)\n",
        "  return equal.float().mean()\n",
        "\n",
        "# we use Adam as optimizer with lr\n",
        "optimizer = torch.optim.Adam(model.parameters(), lr=0.01)\n",
        "\n",
        "# we use binary cross entropy as loss\n",
        "#BCE = torch.nn.BCELoss()\n",
        "BCE = torch.nn.CrossEntropyLoss()\n",
        "\n",
        "# numer of epochs we will run the training\n",
        "n_epochs=50\n",
        "\n",
        "t0 = time()\n",
        "tdelta=0\n",
        "L=[]\n",
        "for ep in range(n_epochs):\n",
        "\n",
        "    av_loss=0\n",
        "    model.train()\n",
        "    tstart=time()\n",
        "    for c,label in train_loader:\n",
        "\n",
        "        #for debugging if we get lost with the shapes\n",
        "        #print(c.shape,label.shape)\n",
        "        #break\n",
        "\n",
        "        # set all graients to zero\n",
        "        optimizer.zero_grad()\n",
        "\n",
        "        # apply the model to one batch of data\n",
        "        y_pred = model(c)\n",
        "\n",
        "        # calculate the loss by comparing prediction and truth\n",
        "        loss = BCE(y_pred,label)\n",
        "\n",
        "        # calculate the gradients with respect to all NN weights and biases\n",
        "        loss.backward()\n",
        "\n",
        "        # apply the gradient descent step\n",
        "        optimizer.step()\n",
        "\n",
        "        # we calculate the average loss during training\n",
        "        with torch.no_grad():\n",
        "            av_loss+= loss.item()\n",
        "\n",
        "    # before we start the next epoch we have a look at the average loss on training data\n",
        "    av_loss/=n_inner\n",
        "    # and on the independent validation data\n",
        "    with torch.no_grad():\n",
        "        model.eval()\n",
        "        y_pred = model(c_tensor_valid)\n",
        "        loss   = BCE(y_pred,label_tensor_valid)\n",
        "        dt=time() - t0\n",
        "        # we calculate the accuracy, i.e. the percentage of correct classified events\n",
        "        acc    = accuracy(y_pred, label_tensor_valid)\n",
        "    print(f\"Epoch {ep} ({dt:3.2f}sec) av_loss {av_loss:5.2f} validation loss {loss:5.2f} acc {acc*100:6.2f}%\")\n",
        "    L.append([av_loss,loss,acc])"
      ],
      "metadata": {
        "colab": {
          "base_uri": "https://localhost:8080/"
        },
        "id": "5JP4Ob6UcfZ8",
        "outputId": "40c2dc13-02d0-45a1-e227-d46b44a91729"
      },
      "execution_count": null,
      "outputs": [
        {
          "output_type": "stream",
          "name": "stdout",
          "text": [
            "Epoch 0 (15.01sec) av_loss  0.50 validation loss  0.49 acc  54.98%\n",
            "Epoch 1 (27.39sec) av_loss  0.50 validation loss  0.50 acc  54.98%\n",
            "Epoch 2 (40.23sec) av_loss  0.49 validation loss  0.48 acc  54.98%\n",
            "Epoch 3 (52.94sec) av_loss  0.49 validation loss  0.48 acc  54.98%\n",
            "Epoch 4 (65.41sec) av_loss  0.49 validation loss  0.47 acc  54.98%\n",
            "Epoch 5 (78.31sec) av_loss  0.48 validation loss  0.47 acc  54.98%\n",
            "Epoch 6 (91.44sec) av_loss  0.48 validation loss  0.46 acc  54.98%\n",
            "Epoch 7 (104.23sec) av_loss  0.48 validation loss  0.47 acc  54.98%\n",
            "Epoch 8 (117.21sec) av_loss  0.48 validation loss  0.46 acc  54.98%\n",
            "Epoch 9 (133.65sec) av_loss  0.48 validation loss  0.47 acc  54.98%\n",
            "Epoch 10 (147.75sec) av_loss  0.47 validation loss  0.45 acc  54.98%\n",
            "Epoch 11 (160.55sec) av_loss  0.47 validation loss  0.45 acc  54.98%\n",
            "Epoch 12 (173.29sec) av_loss  0.47 validation loss  0.46 acc  54.98%\n",
            "Epoch 13 (186.01sec) av_loss  0.47 validation loss  0.45 acc  54.98%\n",
            "Epoch 14 (198.28sec) av_loss  0.46 validation loss  0.47 acc  54.98%\n",
            "Epoch 15 (211.00sec) av_loss  0.46 validation loss  0.44 acc  54.98%\n",
            "Epoch 16 (223.30sec) av_loss  0.46 validation loss  0.45 acc  54.98%\n",
            "Epoch 17 (235.86sec) av_loss  0.46 validation loss  0.45 acc  54.98%\n",
            "Epoch 18 (248.51sec) av_loss  0.45 validation loss  0.44 acc  54.98%\n"
          ]
        }
      ]
    },
    {
      "cell_type": "code",
      "source": [
        "y_p=torch.rand(20).view(10,2)\n",
        "#lab=torch.randint(0,2,[\n",
        "y_p,lab\n"
      ],
      "metadata": {
        "colab": {
          "base_uri": "https://localhost:8080/"
        },
        "id": "B8Bzml66ofVT",
        "outputId": "14dd1494-7de2-4507-f4fd-7f712f227913"
      },
      "execution_count": 102,
      "outputs": [
        {
          "output_type": "execute_result",
          "data": {
            "text/plain": [
              "(tensor([[0.0532, 0.9799],\n",
              "         [0.7013, 0.1574],\n",
              "         [0.3122, 0.4902],\n",
              "         [0.3369, 0.7349],\n",
              "         [0.0263, 0.6381],\n",
              "         [0.7470, 0.2428],\n",
              "         [0.3142, 0.1802],\n",
              "         [0.7788, 0.4659],\n",
              "         [0.7766, 0.3184],\n",
              "         [0.9335, 0.9556]]),\n",
              " tensor([[0, 0],\n",
              "         [0, 1],\n",
              "         [1, 0],\n",
              "         [0, 0],\n",
              "         [1, 0]]))"
            ]
          },
          "metadata": {},
          "execution_count": 102
        }
      ]
    },
    {
      "cell_type": "code",
      "source": [
        "torch.mean(torch.argmax(dim=1)==torch.argmax(dim=1))"
      ],
      "metadata": {
        "colab": {
          "base_uri": "https://localhost:8080/",
          "height": 176
        },
        "id": "1a5BRbe2pj7n",
        "outputId": "119c7165-a355-46a1-82f1-1f5f4f5096d2"
      },
      "execution_count": 103,
      "outputs": [
        {
          "output_type": "error",
          "ename": "TypeError",
          "evalue": "argmax() missing 1 required positional arguments: \"input\"",
          "traceback": [
            "\u001b[0;31m---------------------------------------------------------------------------\u001b[0m",
            "\u001b[0;31mTypeError\u001b[0m                                 Traceback (most recent call last)",
            "\u001b[0;32m<ipython-input-103-98c8a9cd3e56>\u001b[0m in \u001b[0;36m<cell line: 1>\u001b[0;34m()\u001b[0m\n\u001b[0;32m----> 1\u001b[0;31m \u001b[0mtorch\u001b[0m\u001b[0;34m.\u001b[0m\u001b[0mmean\u001b[0m\u001b[0;34m(\u001b[0m\u001b[0mtorch\u001b[0m\u001b[0;34m.\u001b[0m\u001b[0margmax\u001b[0m\u001b[0;34m(\u001b[0m\u001b[0mdim\u001b[0m\u001b[0;34m=\u001b[0m\u001b[0;36m1\u001b[0m\u001b[0;34m)\u001b[0m\u001b[0;34m==\u001b[0m\u001b[0mtorch\u001b[0m\u001b[0;34m.\u001b[0m\u001b[0margmax\u001b[0m\u001b[0;34m(\u001b[0m\u001b[0mdim\u001b[0m\u001b[0;34m=\u001b[0m\u001b[0;36m1\u001b[0m\u001b[0;34m)\u001b[0m\u001b[0;34m)\u001b[0m\u001b[0;34m\u001b[0m\u001b[0;34m\u001b[0m\u001b[0m\n\u001b[0m",
            "\u001b[0;31mTypeError\u001b[0m: argmax() missing 1 required positional arguments: \"input\""
          ]
        }
      ]
    },
    {
      "cell_type": "code",
      "source": [
        "# we plot the learning curve\n",
        "Xaxis = np.arange(0,len(L))\n",
        "plt.title('loss eveolution')\n",
        "lns=plt.plot(Xaxis,L)\n",
        "plt.legend(lns, ('train', 'test'))\n",
        "plt.xlabel('epochs')\n",
        "plt.ylabel('x-entropy loss')\n",
        "#plt.yscale('log')\n",
        "plt.show()"
      ],
      "metadata": {
        "id": "OIFkTtXmlElG"
      },
      "execution_count": null,
      "outputs": []
    },
    {
      "cell_type": "markdown",
      "metadata": {
        "id": "w2XCut2kTAls"
      },
      "source": [
        "### Performance\n",
        "\n",
        "We ended up with an accuracy of about 71%, which is already quite good for such a small network (and lot's of important things we did not even consider yet ...)!\n",
        "\n",
        "Let's check if the model generalized by evaluating the validation data and manually computing the accuracy."
      ]
    },
    {
      "cell_type": "code",
      "execution_count": 95,
      "metadata": {
        "id": "JWXoT46HTAls"
      },
      "outputs": [],
      "source": [
        "# evaluate all training and validation data again for further study\n",
        "predictions_train = model(c_tensor_train).detach().numpy()\n",
        "predictions_valid = model(c_tensor_valid).detach().numpy()"
      ]
    },
    {
      "cell_type": "markdown",
      "source": [
        "The preddiction is a float between between 0 and 1. We cut at 0.5 and count everything below as QCD and everything above as Top.\n"
      ],
      "metadata": {
        "id": "DfnlpzoxgIw7"
      }
    },
    {
      "cell_type": "code",
      "source": [
        "acc_train = accuracy_score(predictions_train>0.5, label_tensor_train)\n",
        "acc_valid = accuracy_score(predictions_valid>0.5, label_tensor_valid)\n",
        "print(f\"Accuracy on traing data {acc_train}\")\n",
        "print(f\"Accuracy on validation data {acc_valid}\")"
      ],
      "metadata": {
        "colab": {
          "base_uri": "https://localhost:8080/"
        },
        "id": "OsSlccZzfFLl",
        "outputId": "9d4f40db-1772-4fe4-d97d-caaf7d586a26"
      },
      "execution_count": 96,
      "outputs": [
        {
          "output_type": "stream",
          "name": "stdout",
          "text": [
            "Accuracy on traing data 0.713655\n",
            "Accuracy on validation data 0.71361\n"
          ]
        }
      ]
    },
    {
      "cell_type": "markdown",
      "metadata": {
        "id": "OpPCX6awTAls"
      },
      "source": [
        "This looks fairly similar, so for now, we don't seem to experience overtraining.\n",
        "\n",
        "We proceed by taking a look at the output distributions of the validation dataset, separated into signal and background components. Since we are dealing with a binary classification, and the sum of the two output values is normalized to one, it is sufficient to inspect just one of the output nodes. Since our goal is to identify signal, we look at the second column with index 1 (note that the same is considered in the accuracy calculation above)."
      ]
    },
    {
      "cell_type": "code",
      "execution_count": 98,
      "metadata": {
        "colab": {
          "base_uri": "https://localhost:8080/",
          "height": 445
        },
        "id": "f0fwXCiGTAls",
        "outputId": "678067b0-d083-4cbd-d6d0-227915a4875a"
      },
      "outputs": [
        {
          "output_type": "display_data",
          "data": {
            "text/plain": [
              "<Figure size 640x480 with 1 Axes>"
            ],
            "image/png": "[encoded data removed]"
          },
          "metadata": {}
        }
      ],
      "source": [
        "hlp.plots.plot_hist(\n",
        "    (predictions_valid[labels_valid == 0], predictions_valid[labels_valid == 1]),\n",
        "    names=(\"QCD jets\", \"Top jets\"),\n",
        "    xlabel=\"Output distribution\",\n",
        "    log=True,\n",
        ").show()"
      ]
    },
    {
      "cell_type": "markdown",
      "metadata": {
        "id": "mm5oLLK0TAls"
      },
      "source": [
        "Besides the classification accuracy, we can study the *receiver operating characteristic* curve or **ROC** curve. It shows the relation between the true positive (jets *correctly* identified as top jets) and false positive rates (light jets *mistaken* as a top jets)."
      ]
    },
    {
      "cell_type": "code",
      "execution_count": 99,
      "metadata": {
        "colab": {
          "base_uri": "https://localhost:8080/",
          "height": 801
        },
        "id": "FYqJuYx9TAls",
        "outputId": "c6e652b7-1497-40b2-dcdb-e5aed08ce64c"
      },
      "outputs": [
        {
          "output_type": "error",
          "ename": "IndexError",
          "evalue": "too many indices for array: array is 1-dimensional, but 2 were indexed",
          "traceback": [
            "\u001b[0;31m---------------------------------------------------------------------------\u001b[0m",
            "\u001b[0;31mIndexError\u001b[0m                                Traceback (most recent call last)",
            "\u001b[0;32m<ipython-input-99-b2283a286860>\u001b[0m in \u001b[0;36m<cell line: 2>\u001b[0;34m()\u001b[0m\n\u001b[1;32m      1\u001b[0m \u001b[0;31m# do the roc plot\u001b[0m\u001b[0;34m\u001b[0m\u001b[0;34m\u001b[0m\u001b[0m\n\u001b[0;32m----> 2\u001b[0;31m hlp.plots.plot_roc(\n\u001b[0m\u001b[1;32m      3\u001b[0m     \u001b[0;34m(\u001b[0m\u001b[0mlabels_train\u001b[0m\u001b[0;34m,\u001b[0m \u001b[0mlabels_valid\u001b[0m\u001b[0;34m)\u001b[0m\u001b[0;34m,\u001b[0m\u001b[0;34m\u001b[0m\u001b[0;34m\u001b[0m\u001b[0m\n\u001b[1;32m      4\u001b[0m     \u001b[0;34m(\u001b[0m\u001b[0mpredictions_train\u001b[0m\u001b[0;34m,\u001b[0m \u001b[0mpredictions_valid\u001b[0m\u001b[0;34m)\u001b[0m\u001b[0;34m,\u001b[0m\u001b[0;34m\u001b[0m\u001b[0;34m\u001b[0m\u001b[0m\n\u001b[1;32m      5\u001b[0m     \u001b[0mnames\u001b[0m\u001b[0;34m=\u001b[0m\u001b[0;34m(\u001b[0m\u001b[0;34m\"train\"\u001b[0m\u001b[0;34m,\u001b[0m \u001b[0;34m\"valid\"\u001b[0m\u001b[0;34m)\u001b[0m\u001b[0;34m,\u001b[0m\u001b[0;34m\u001b[0m\u001b[0;34m\u001b[0m\u001b[0m\n",
            "\u001b[0;32m/content/helpers/plots.py\u001b[0m in \u001b[0;36mplot_roc\u001b[0;34m(labels, predictions, names, xlim, ylim)\u001b[0m\n\u001b[1;32m     65\u001b[0m     \u001b[0;32mfor\u001b[0m \u001b[0ml\u001b[0m\u001b[0;34m,\u001b[0m \u001b[0mp\u001b[0m\u001b[0;34m,\u001b[0m \u001b[0mn\u001b[0m \u001b[0;32min\u001b[0m \u001b[0mzip\u001b[0m\u001b[0;34m(\u001b[0m\u001b[0mlabels\u001b[0m\u001b[0;34m,\u001b[0m \u001b[0mpredictions\u001b[0m\u001b[0;34m,\u001b[0m \u001b[0mnames\u001b[0m\u001b[0;34m)\u001b[0m\u001b[0;34m:\u001b[0m\u001b[0;34m\u001b[0m\u001b[0;34m\u001b[0m\u001b[0m\n\u001b[1;32m     66\u001b[0m         \u001b[0;31m# linearize\u001b[0m\u001b[0;34m\u001b[0m\u001b[0;34m\u001b[0m\u001b[0m\n\u001b[0;32m---> 67\u001b[0;31m         \u001b[0ml\u001b[0m \u001b[0;34m=\u001b[0m \u001b[0ml\u001b[0m\u001b[0;34m[\u001b[0m\u001b[0;34m:\u001b[0m\u001b[0;34m,\u001b[0m \u001b[0;36m1\u001b[0m\u001b[0;34m]\u001b[0m\u001b[0;34m\u001b[0m\u001b[0;34m\u001b[0m\u001b[0m\n\u001b[0m\u001b[1;32m     68\u001b[0m         \u001b[0mp\u001b[0m \u001b[0;34m=\u001b[0m \u001b[0mp\u001b[0m\u001b[0;34m[\u001b[0m\u001b[0;34m:\u001b[0m\u001b[0;34m,\u001b[0m \u001b[0;36m1\u001b[0m\u001b[0;34m]\u001b[0m\u001b[0;34m\u001b[0m\u001b[0;34m\u001b[0m\u001b[0m\n\u001b[1;32m     69\u001b[0m \u001b[0;34m\u001b[0m\u001b[0m\n",
            "\u001b[0;31mIndexError\u001b[0m: too many indices for array: array is 1-dimensional, but 2 were indexed"
          ]
        },
        {
          "output_type": "display_data",
          "data": {
            "text/plain": [
              "<Figure size 640x480 with 1 Axes>"
            ],
            "image/png": "[encoded data removed]"
          },
          "metadata": {}
        }
      ],
      "source": [
        "# do the roc plot\n",
        "hlp.plots.plot_roc(\n",
        "    (labels_train, labels_valid),\n",
        "    (predictions_train, predictions_valid),\n",
        "    names=(\"train\", \"valid\"),\n",
        ").show()"
      ]
    },
    {
      "cell_type": "markdown",
      "metadata": {
        "id": "EBQboGwSTAls"
      },
      "source": [
        "The curves above are produced by scanning potential values to cut on the network output and examining the resulting signal classification (true positive) and background mis-classification (false positive) rates.\n",
        "\n",
        "Naturally, a well performing network has a high true positive rate while keeping the (reciprocal) false positive rate at a reasonably low (high) level. For the choice of the axes above, this would lead to a curve that is bent towards the upper right corner. But be aware that other representations of the ROC curve exist which might look somewhat different (e.g. \"1 - false positive rate\" on the y-axis). Their message is, however, identical.\n",
        "\n",
        "A commonly used proxy that compiles the values for all possible cuts into one metric is the area-under-curve - **AUC**. A value of 1 signalizes a perfectly working network that allows for a cut value leading to 100% signal efficiency and 0% background contamination. Opposed to that, a value of 0.5 means that the two output distributions of signal and background events are probably fully overlapping, lacking the opportunity to apply a cut that would favor signal examples. A value of 0 has the same logical meaning as 1, but the definition of what is signal and background is flipped. Therefore, the distance from 0.5 is what actually matters here.\n",
        "\n",
        "A value around 0.75 is already quite decent, but there's still potential. You can try to beat this value in the full training setup below."
      ]
    },
    {
      "cell_type": "markdown",
      "metadata": {
        "id": "6UFC2x1sTAls"
      },
      "source": [
        "## Lessons learned\n",
        "\n",
        "- Now we know how to build a simple model using PyTorch.\n",
        "- To ensure model generalization, we evaluated validation data with our trainined model.\n",
        "- We calculated accuracies and visualized the output distributions.\n",
        "- We learned about ROC curves, AUC values and how to plot / compute them.\n",
        "\n",
        "With these tools at hand, we can jump into the next section and improve our model."
      ]
    },
    {
      "cell_type": "markdown",
      "metadata": {
        "id": "08sRysuMTAls"
      },
      "source": [
        "# Part 5: Improving the model"
      ]
    },
    {
      "cell_type": "markdown",
      "metadata": {
        "id": "MLevlrXMTAlu"
      },
      "source": [
        "Our input data - a selection of four-vectors with values given in GeV - clearly comes from the domain of physics. As we have seen in the plots above, their numerical values range from -500 to 500 for $p_x$ and $p_y$, and up to 2000 for $E$ and $p_z$ values.\n",
        "Restricting to a range of -1 to 1 is often improving the performance. sklearn provides several\n",
        "[scalers.](https://scikit-learn.org/stable/auto_examples/preprocessing/plot_all_scaling.html#standardscaler). The MinMax scaler is popular but it depends strongly on the sample size. The StandardScaler is often a better choice.\n",
        "\n"
      ]
    },
    {
      "cell_type": "markdown",
      "metadata": {
        "id": "_UXHEq9ETAlu"
      },
      "source": [
        "There are many details that influence the performance of the model. An accuracy of 85% is easily possible.\n",
        "Do some experiment with several aspects of the model:\n",
        "* How many **epochs** are necessary to reach the best performance?\n",
        "* What is the best value for the **learning rate**.\n",
        "* **Preprocessing**\n",
        "  * Feature normalization: MinMax or StandardScaler\n",
        "  * Higher level features - Physical knowledge\n",
        "* Network **archtecture**\n",
        "  * how large can the layers become\n",
        "  * Activation functions - ReLU\n",
        "  * Convolutional layers (see lecture)\n",
        "* **Regularisation**\n",
        "  * Dropout\n",
        "  * Batchnorm is a now popular choice\n",
        "* Available training data size - **big data!**"
      ]
    },
    {
      "cell_type": "code",
      "source": [],
      "metadata": {
        "id": "OmK4OtiTWoGu"
      },
      "execution_count": null,
      "outputs": []
    }
  ],
  "metadata": {
    "celltoolbar": "Slideshow",
    "colab": {
      "provenance": [],
      "include_colab_link": true
    },
    "kernelspec": {
      "display_name": "Python 3",
      "name": "python3"
    },
    "language_info": {
      "codemirror_mode": {
        "name": "ipython",
        "version": 3
      },
      "file_extension": ".py",
      "mimetype": "text/x-python",
      "name": "python",
      "nbconvert_exporter": "python",
      "pygments_lexer": "ipython3",
      "version": "3.6.9"
    },
    "rise": {
      "controls": false,
      "footer": "&nbsp;&nbsp; <b>QU TensorFlow Tutorial</b> | 8. June 2021 | Marcel Rieger",
      "scroll": true,
      "slideNumber": "c",
      "theme": "simple",
      "transition": "none"
    }
  },
  "nbformat": 4,
  "nbformat_minor": 0
}
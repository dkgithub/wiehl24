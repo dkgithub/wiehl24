{
  "cells": [
    {
      "cell_type": "markdown",
      "metadata": {
        "id": "view-in-github",
        "colab_type": "text"
      },
      "source": [
        "<a href=\"https://colab.research.google.com/github/dkgithub/wiehl24/blob/main/autograd_tutorial.ipynb\" target=\"_parent\"><img src=\"https://colab.research.google.com/assets/colab-badge.svg\" alt=\"Open In Colab\"/></a>"
      ]
    },
    {
      "cell_type": "code",
      "execution_count": null,
      "metadata": {
        "jupyter": {
          "outputs_hidden": false
        },
        "id": "-dptB3elUHVb"
      },
      "outputs": [],
      "source": [
        "#%matplotlib inline"
      ]
    },
    {
      "cell_type": "markdown",
      "metadata": {
        "id": "4VAcaipoUHVd"
      },
      "source": [
        "\n",
        "Autograd: Automatic Differentiation\n",
        "===================================\n",
        "\n",
        "Central to all neural networks in PyTorch is the ``autograd`` package.\n",
        "Let’s first briefly visit this, and we will then go to training our\n",
        "first neural network.\n",
        "\n",
        "\n",
        "The ``autograd`` package provides automatic differentiation for all operations\n",
        "on Tensors. It is a define-by-run framework, which means that your backprop is\n",
        "defined by how your code is run, and that every single iteration can be\n",
        "different.\n",
        "\n",
        "Let us see this in more simple terms with some examples.\n",
        "\n",
        "Tensor\n",
        "--------\n",
        "\n",
        "``torch.Tensor`` is the central class of the package. If you set its attribute\n",
        "``.requires_grad`` as ``True``, it starts to track all operations on it. When\n",
        "you finish your computation you can call ``.backward()`` and have all the\n",
        "gradients computed automatically. The gradient for this tensor will be\n",
        "accumulated into ``.grad`` attribute.\n",
        "\n",
        "To stop a tensor from tracking history, you can call ``.detach()`` to detach\n",
        "it from the computation history, and to prevent future computation from being\n",
        "tracked.\n",
        "\n",
        "To prevent tracking history (and using memory), you can also wrap the code block\n",
        "in ``with torch.no_grad():``. This can be particularly helpful when evaluating a\n",
        "model because the model may have trainable parameters with `requires_grad=True`,\n",
        "but for which we don't need the gradients.\n",
        "\n",
        "There’s one more class which is very important for autograd\n",
        "implementation - a ``Function``.\n",
        "\n",
        "``Tensor`` and ``Function`` are interconnected and build up an acyclic\n",
        "graph, that encodes a complete history of computation. Each tensor has\n",
        "a ``.grad_fn`` attribute that references a ``Function`` that has created\n",
        "the ``Tensor`` (except for Tensors created by the user - their\n",
        "``grad_fn is None``).\n",
        "\n",
        "If you want to compute the derivatives, you can call ``.backward()`` on\n",
        "a ``Tensor``. If ``Tensor`` is a scalar (i.e. it holds a one element\n",
        "data), you don’t need to specify any arguments to ``backward()``,\n",
        "however if it has more elements, you need to specify a ``gradient``\n",
        "argument that is a tensor of matching shape.\n",
        "\n"
      ]
    },
    {
      "cell_type": "code",
      "execution_count": null,
      "metadata": {
        "jupyter": {
          "outputs_hidden": false
        },
        "id": "2NFkuvekUHVf"
      },
      "outputs": [],
      "source": [
        "import torch"
      ]
    },
    {
      "cell_type": "markdown",
      "metadata": {
        "id": "jQD05ffCUHVf"
      },
      "source": [
        "Create a tensor and set **requires_grad=True** to track computation with it\n",
        "\n"
      ]
    },
    {
      "cell_type": "code",
      "execution_count": null,
      "metadata": {
        "jupyter": {
          "outputs_hidden": false
        },
        "colab": {
          "base_uri": "https://localhost:8080/"
        },
        "id": "XbiVyIJIUHVf",
        "outputId": "71df8b41-2100-420a-8188-26f70f47a5f3"
      },
      "outputs": [
        {
          "output_type": "stream",
          "name": "stdout",
          "text": [
            "tensor([[1., 1.],\n",
            "        [1., 1.]], requires_grad=True)\n"
          ]
        }
      ],
      "source": [
        "x = torch.ones(2, 2, requires_grad=True)\n",
        "print(x)"
      ]
    },
    {
      "cell_type": "markdown",
      "metadata": {
        "id": "twuwjhWcUHVf"
      },
      "source": [
        "Do an operation of tensor, e.g. add a number:\n",
        "\n"
      ]
    },
    {
      "cell_type": "code",
      "execution_count": null,
      "metadata": {
        "jupyter": {
          "outputs_hidden": false
        },
        "colab": {
          "base_uri": "https://localhost:8080/"
        },
        "id": "le35KZmKUHVf",
        "outputId": "e8a22585-8c39-453c-8fab-b1d09f5d9f07"
      },
      "outputs": [
        {
          "output_type": "stream",
          "name": "stdout",
          "text": [
            "tensor([[3., 3.],\n",
            "        [3., 3.]], grad_fn=<AddBackward0>)\n"
          ]
        }
      ],
      "source": [
        "y = x + 2\n",
        "print(y)"
      ]
    },
    {
      "cell_type": "markdown",
      "metadata": {
        "id": "ckgEOAl4UHVg"
      },
      "source": [
        "``y`` was created as a result of an operation, so it has a ``grad_fn``.\n",
        "\n"
      ]
    },
    {
      "cell_type": "code",
      "execution_count": null,
      "metadata": {
        "jupyter": {
          "outputs_hidden": false
        },
        "colab": {
          "base_uri": "https://localhost:8080/"
        },
        "id": "9lhnlkHDUHVg",
        "outputId": "a5fe5ae3-3923-481c-e991-9c39bab58236"
      },
      "outputs": [
        {
          "output_type": "stream",
          "name": "stdout",
          "text": [
            "<AddBackward0 object at 0x7f16b8b1ca60>\n"
          ]
        }
      ],
      "source": [
        "print(y.grad_fn)"
      ]
    },
    {
      "cell_type": "markdown",
      "metadata": {
        "id": "ERCQ7h1BUHVg"
      },
      "source": [
        "Do more operations on y\n",
        "\n"
      ]
    },
    {
      "cell_type": "code",
      "execution_count": null,
      "metadata": {
        "jupyter": {
          "outputs_hidden": false
        },
        "colab": {
          "base_uri": "https://localhost:8080/"
        },
        "id": "qlwSg2qZUHVg",
        "outputId": "da821c45-23fd-4000-8975-cf64658e1485"
      },
      "outputs": [
        {
          "output_type": "stream",
          "name": "stdout",
          "text": [
            "tensor([[27., 27.],\n",
            "        [27., 27.]], grad_fn=<MulBackward0>) tensor(27., grad_fn=<MeanBackward0>)\n",
            "tensor([[1., 1.],\n",
            "        [1., 1.]], grad_fn=<PowBackward0>) tensor(27., grad_fn=<MeanBackward0>)\n"
          ]
        }
      ],
      "source": [
        "z = y * y * 3\n",
        "out = z.mean()\n",
        "q=x**2\n",
        "print(z, out)\n",
        "print(q, out)"
      ]
    },
    {
      "cell_type": "markdown",
      "metadata": {
        "id": "y7v3C4kSUHVg"
      },
      "source": [
        "``.requires_grad_( ... )`` changes an existing Tensor's ``requires_grad``\n",
        "flag in-place. The input flag defaults to ``False`` if not given. This allows us to calculate a tensor and then start tracking the operations for grading calculation.\n",
        "\n"
      ]
    },
    {
      "cell_type": "code",
      "execution_count": null,
      "metadata": {
        "jupyter": {
          "outputs_hidden": false
        },
        "colab": {
          "base_uri": "https://localhost:8080/"
        },
        "id": "xZZA2NfDUHVg",
        "outputId": "f41422bb-859e-4703-ca78-6f448d78fd0d"
      },
      "outputs": [
        {
          "output_type": "stream",
          "name": "stdout",
          "text": [
            "False\n",
            "True\n",
            "<SumBackward0 object at 0x7f16b9967190>\n"
          ]
        }
      ],
      "source": [
        "a = torch.randn(2, 2)\n",
        "a = ((a * 3) / (a - 1))\n",
        "print(a.requires_grad)\n",
        "a.requires_grad_(True)\n",
        "print(a.requires_grad)\n",
        "b = (a * a).sum()\n",
        "print(b.grad_fn)"
      ]
    },
    {
      "cell_type": "markdown",
      "metadata": {
        "id": "0-6sztA1UHVg"
      },
      "source": [
        "### We use a little tool to draw the list of operation, i.e. the computation graph\n",
        "\n",
        "https://github.com/szagoruyko/pytorchviz\n",
        "\n",
        "It produces Graphviz representation of PyTorch autograd graph.\n",
        "* Blue nodes are the Variables that require grad,\n",
        "* orange are Tensors saved for backward in torch.autograd.Function\n",
        "    Args:\n",
        "        var: output Variable\n",
        "        params: dict of (name, Variable) to add names to node that require grad\n"
      ]
    },
    {
      "cell_type": "code",
      "execution_count": 11,
      "metadata": {
        "id": "eiEB0ZMuUHVh",
        "colab": {
          "base_uri": "https://localhost:8080/"
        },
        "outputId": "68934042-eb4a-4378-ea41-a81c16b037cc"
      },
      "outputs": [
        {
          "output_type": "stream",
          "name": "stdout",
          "text": [
            "Collecting git+https://github.com/szagoruyko/pytorchviz\n",
            "  Cloning https://github.com/szagoruyko/pytorchviz to /tmp/pip-req-build-pwvlk1d7\n",
            "  Running command git clone --filter=blob:none --quiet https://github.com/szagoruyko/pytorchviz /tmp/pip-req-build-pwvlk1d7\n",
            "  Resolved https://github.com/szagoruyko/pytorchviz to commit 0adcd83af8aa7ab36d6afd139cabbd9df598edb7\n",
            "  Preparing metadata (setup.py) ... \u001b[?25l\u001b[?25hdone\n",
            "Requirement already satisfied: torch in /usr/local/lib/python3.10/dist-packages (from torchviz==0.0.2) (2.1.0+cu121)\n",
            "Requirement already satisfied: graphviz in /usr/local/lib/python3.10/dist-packages (from torchviz==0.0.2) (0.20.1)\n",
            "Requirement already satisfied: filelock in /usr/local/lib/python3.10/dist-packages (from torch->torchviz==0.0.2) (3.13.1)\n",
            "Requirement already satisfied: typing-extensions in /usr/local/lib/python3.10/dist-packages (from torch->torchviz==0.0.2) (4.5.0)\n",
            "Requirement already satisfied: sympy in /usr/local/lib/python3.10/dist-packages (from torch->torchviz==0.0.2) (1.12)\n",
            "Requirement already satisfied: networkx in /usr/local/lib/python3.10/dist-packages (from torch->torchviz==0.0.2) (3.2.1)\n",
            "Requirement already satisfied: jinja2 in /usr/local/lib/python3.10/dist-packages (from torch->torchviz==0.0.2) (3.1.3)\n",
            "Requirement already satisfied: fsspec in /usr/local/lib/python3.10/dist-packages (from torch->torchviz==0.0.2) (2023.6.0)\n",
            "Requirement already satisfied: triton==2.1.0 in /usr/local/lib/python3.10/dist-packages (from torch->torchviz==0.0.2) (2.1.0)\n",
            "Requirement already satisfied: MarkupSafe>=2.0 in /usr/local/lib/python3.10/dist-packages (from jinja2->torch->torchviz==0.0.2) (2.1.3)\n",
            "Requirement already satisfied: mpmath>=0.19 in /usr/local/lib/python3.10/dist-packages (from sympy->torch->torchviz==0.0.2) (1.3.0)\n",
            "Building wheels for collected packages: torchviz\n",
            "  Building wheel for torchviz (setup.py) ... \u001b[?25l\u001b[?25hdone\n",
            "  Created wheel for torchviz: filename=torchviz-0.0.2-py3-none-any.whl size=4973 sha256=d44e9adc99f590f10617af86d6c8ddbf259a3c3af6a2caa9f54a4f550085704b\n",
            "  Stored in directory: /tmp/pip-ephem-wheel-cache-oiifofsa/wheels/44/5a/39/48c1209682afcfc7ad8ae7b3cf7aa0ff08a72e3ac4e5931f1d\n",
            "Successfully built torchviz\n",
            "Installing collected packages: torchviz\n",
            "Successfully installed torchviz-0.0.2\n"
          ]
        }
      ],
      "source": [
        "!pip install git+https://github.com/szagoruyko/pytorchviz"
      ]
    },
    {
      "cell_type": "code",
      "execution_count": 13,
      "metadata": {
        "colab": {
          "base_uri": "https://localhost:8080/",
          "height": 529
        },
        "id": "QDaYRz_sUHVh",
        "outputId": "275de0d0-caa5-41b1-db8b-d6937402c1ce"
      },
      "outputs": [
        {
          "output_type": "execute_result",
          "data": {
            "image/svg+xml": "<?xml version=\"1.0\" encoding=\"UTF-8\" standalone=\"no\"?>\n<!DOCTYPE svg PUBLIC \"-//W3C//DTD SVG 1.1//EN\"\n \"http://www.w3.org/Graphics/SVG/1.1/DTD/svg11.dtd\">\n<!-- Generated by graphviz version 2.43.0 (0)\n -->\n<!-- Title: %3 Pages: 1 -->\n<svg width=\"109pt\" height=\"381pt\"\n viewBox=\"0.00 0.00 109.00 381.00\" xmlns=\"http://www.w3.org/2000/svg\" xmlns:xlink=\"http://www.w3.org/1999/xlink\">\n<g id=\"graph0\" class=\"graph\" transform=\"scale(1 1) rotate(0) translate(4 377)\">\n<title>%3</title>\n<polygon fill=\"white\" stroke=\"transparent\" points=\"-4,4 -4,-377 105,-377 105,4 -4,4\"/>\n<!-- 139735584912976 -->\n<g id=\"node1\" class=\"node\">\n<title>139735584912976</title>\n<polygon fill=\"#caff70\" stroke=\"black\" points=\"77.5,-31 23.5,-31 23.5,0 77.5,0 77.5,-31\"/>\n<text text-anchor=\"middle\" x=\"50.5\" y=\"-7\" font-family=\"monospace\" font-size=\"10.00\"> ()</text>\n</g>\n<!-- 139732332674592 -->\n<g id=\"node2\" class=\"node\">\n<title>139732332674592</title>\n<polygon fill=\"lightgrey\" stroke=\"black\" points=\"98,-86 3,-86 3,-67 98,-67 98,-86\"/>\n<text text-anchor=\"middle\" x=\"50.5\" y=\"-74\" font-family=\"monospace\" font-size=\"10.00\">MeanBackward0</text>\n</g>\n<!-- 139732332674592&#45;&gt;139735584912976 -->\n<g id=\"edge7\" class=\"edge\">\n<title>139732332674592&#45;&gt;139735584912976</title>\n<path fill=\"none\" stroke=\"black\" d=\"M50.5,-66.79C50.5,-60.07 50.5,-50.4 50.5,-41.34\"/>\n<polygon fill=\"black\" stroke=\"black\" points=\"54,-41.19 50.5,-31.19 47,-41.19 54,-41.19\"/>\n</g>\n<!-- 139732332674208 -->\n<g id=\"node3\" class=\"node\">\n<title>139732332674208</title>\n<polygon fill=\"lightgrey\" stroke=\"black\" points=\"95,-141 6,-141 6,-122 95,-122 95,-141\"/>\n<text text-anchor=\"middle\" x=\"50.5\" y=\"-129\" font-family=\"monospace\" font-size=\"10.00\">MulBackward0</text>\n</g>\n<!-- 139732332674208&#45;&gt;139732332674592 -->\n<g id=\"edge1\" class=\"edge\">\n<title>139732332674208&#45;&gt;139732332674592</title>\n<path fill=\"none\" stroke=\"black\" d=\"M50.5,-121.75C50.5,-114.8 50.5,-104.85 50.5,-96.13\"/>\n<polygon fill=\"black\" stroke=\"black\" points=\"54,-96.09 50.5,-86.09 47,-96.09 54,-96.09\"/>\n</g>\n<!-- 139732332674448 -->\n<g id=\"node4\" class=\"node\">\n<title>139732332674448</title>\n<polygon fill=\"lightgrey\" stroke=\"black\" points=\"95,-196 6,-196 6,-177 95,-177 95,-196\"/>\n<text text-anchor=\"middle\" x=\"50.5\" y=\"-184\" font-family=\"monospace\" font-size=\"10.00\">MulBackward0</text>\n</g>\n<!-- 139732332674448&#45;&gt;139732332674208 -->\n<g id=\"edge2\" class=\"edge\">\n<title>139732332674448&#45;&gt;139732332674208</title>\n<path fill=\"none\" stroke=\"black\" d=\"M50.5,-176.75C50.5,-169.8 50.5,-159.85 50.5,-151.13\"/>\n<polygon fill=\"black\" stroke=\"black\" points=\"54,-151.09 50.5,-141.09 47,-151.09 54,-151.09\"/>\n</g>\n<!-- 139732332674496 -->\n<g id=\"node5\" class=\"node\">\n<title>139732332674496</title>\n<polygon fill=\"lightgrey\" stroke=\"black\" points=\"95,-251 6,-251 6,-232 95,-232 95,-251\"/>\n<text text-anchor=\"middle\" x=\"50.5\" y=\"-239\" font-family=\"monospace\" font-size=\"10.00\">AddBackward0</text>\n</g>\n<!-- 139732332674496&#45;&gt;139732332674448 -->\n<g id=\"edge3\" class=\"edge\">\n<title>139732332674496&#45;&gt;139732332674448</title>\n<path fill=\"none\" stroke=\"black\" d=\"M45.33,-231.75C43.84,-224.8 43.4,-214.85 44.02,-206.13\"/>\n<polygon fill=\"black\" stroke=\"black\" points=\"47.51,-206.47 45.37,-196.09 40.57,-205.53 47.51,-206.47\"/>\n</g>\n<!-- 139732332674496&#45;&gt;139732332674448 -->\n<g id=\"edge6\" class=\"edge\">\n<title>139732332674496&#45;&gt;139732332674448</title>\n<path fill=\"none\" stroke=\"black\" d=\"M55.67,-231.75C57.16,-224.8 57.6,-214.85 56.98,-206.13\"/>\n<polygon fill=\"black\" stroke=\"black\" points=\"60.43,-205.53 55.63,-196.09 53.49,-206.47 60.43,-205.53\"/>\n</g>\n<!-- 139732332674016 -->\n<g id=\"node6\" class=\"node\">\n<title>139732332674016</title>\n<polygon fill=\"lightgrey\" stroke=\"black\" points=\"101,-306 0,-306 0,-287 101,-287 101,-306\"/>\n<text text-anchor=\"middle\" x=\"50.5\" y=\"-294\" font-family=\"monospace\" font-size=\"10.00\">AccumulateGrad</text>\n</g>\n<!-- 139732332674016&#45;&gt;139732332674496 -->\n<g id=\"edge4\" class=\"edge\">\n<title>139732332674016&#45;&gt;139732332674496</title>\n<path fill=\"none\" stroke=\"black\" d=\"M50.5,-286.75C50.5,-279.8 50.5,-269.85 50.5,-261.13\"/>\n<polygon fill=\"black\" stroke=\"black\" points=\"54,-261.09 50.5,-251.09 47,-261.09 54,-261.09\"/>\n</g>\n<!-- 139732331870016 -->\n<g id=\"node7\" class=\"node\">\n<title>139732331870016</title>\n<polygon fill=\"lightblue\" stroke=\"black\" points=\"80,-373 21,-373 21,-342 80,-342 80,-373\"/>\n<text text-anchor=\"middle\" x=\"50.5\" y=\"-349\" font-family=\"monospace\" font-size=\"10.00\"> (2, 2)</text>\n</g>\n<!-- 139732331870016&#45;&gt;139732332674016 -->\n<g id=\"edge5\" class=\"edge\">\n<title>139732331870016&#45;&gt;139732332674016</title>\n<path fill=\"none\" stroke=\"black\" d=\"M50.5,-341.92C50.5,-334.22 50.5,-324.69 50.5,-316.43\"/>\n<polygon fill=\"black\" stroke=\"black\" points=\"54,-316.25 50.5,-306.25 47,-316.25 54,-316.25\"/>\n</g>\n</g>\n</svg>\n",
            "text/plain": [
              "<graphviz.graphs.Digraph at 0x7f15f80f4220>"
            ]
          },
          "metadata": {},
          "execution_count": 13
        }
      ],
      "source": [
        "from torchviz import make_dot\n",
        "# we neglect the parameter here which defines the names\n",
        "# the tool is meant for ploting models\n",
        "make_dot(out)"
      ]
    },
    {
      "cell_type": "markdown",
      "metadata": {
        "id": "dm8Mv2noUHVh"
      },
      "source": [
        "Gradients\n",
        "---------\n",
        "Let's backprop now\n",
        "Because ``out`` contains a single scalar, ``out.backward()`` is\n",
        "equivalent to ``out.backward(torch.tensor(1))``.\n",
        "\n"
      ]
    },
    {
      "cell_type": "code",
      "execution_count": 14,
      "metadata": {
        "jupyter": {
          "outputs_hidden": false
        },
        "id": "OpIn4RbLUHVh"
      },
      "outputs": [],
      "source": [
        "out.backward()"
      ]
    },
    {
      "cell_type": "markdown",
      "metadata": {
        "id": "cZx8ACf7UHVh"
      },
      "source": [
        "The calculated gradients are available as member of the tensor.  Here, **x.grad**.\n",
        "\n",
        "print gradients d(out)/dx\n",
        "\n",
        "\n"
      ]
    },
    {
      "cell_type": "code",
      "execution_count": 15,
      "metadata": {
        "jupyter": {
          "outputs_hidden": false
        },
        "id": "Ha2_3zmMUHVh",
        "colab": {
          "base_uri": "https://localhost:8080/"
        },
        "outputId": "9637873f-8b5e-4db3-b21d-1f1b0c69b3b6"
      },
      "outputs": [
        {
          "output_type": "stream",
          "name": "stdout",
          "text": [
            "tensor([[4.5000, 4.5000],\n",
            "        [4.5000, 4.5000]])\n"
          ]
        }
      ],
      "source": [
        "print(x.grad)"
      ]
    },
    {
      "cell_type": "markdown",
      "metadata": {
        "id": "ulwOADf_UHVh"
      },
      "source": [
        "After you had (above [4]-[7]) executed\n",
        "```python\n",
        "x = torch.ones(2, 2, requires_grad=True)\n",
        "y = x + 2\n",
        "z = y * y * 3\n",
        "out = z.mean()\n",
        "q=x**2\n",
        "```\n",
        "You should have got a 2x2 matrix of ``4.5``.\n",
        "\n",
        "Let’s call the ``out``\n",
        "*Tensor* “$o$”.\n",
        "\n",
        "We follow the calculations backwards to calculate the derivative.\n",
        "\n",
        "We have (mean)\n",
        "$o = \\frac{1}{4}\\sum_i z_i$,\n",
        "\n",
        "$z_i = 3(x_i+2)^2$ and $z_i\\bigr\\rvert_{x_i=1} = 27$.\n",
        "\n",
        "Therefore,\n",
        "$\\frac{\\partial o}{\\partial x_i} =\n",
        "\\frac{\\partial o}{\\partial z_i} \\frac{\\partial z_i}{\\partial x_i} =\n",
        "\\frac{3}{2}(x_i+2)$, hence\n",
        "\n",
        "$\\frac{\\partial o}{\\partial x_i}\\bigr\\rvert_{x_i=1} = \\frac{9}{2} = 4.5$.\n",
        "\n"
      ]
    },
    {
      "cell_type": "markdown",
      "metadata": {
        "id": "kb5PMmCJUHVh"
      },
      "source": [
        "<hr>\n",
        "Another simple example\n",
        "$L=\\sum_{i=0}^4 a_i^2$\n",
        "\n",
        "$\\frac{dL}{d\\vec{\\,a}}=grad(L)=2\\vec{\\,a}$"
      ]
    },
    {
      "cell_type": "code",
      "execution_count": 17,
      "metadata": {
        "id": "3MZXQDYBUHVh",
        "colab": {
          "base_uri": "https://localhost:8080/"
        },
        "outputId": "2aa5ba00-a046-41dd-f5f3-20e8edc88d29"
      },
      "outputs": [
        {
          "output_type": "stream",
          "name": "stdout",
          "text": [
            "tensor(55., grad_fn=<SumBackward0>)\n",
            "tensor([ 2.,  4.,  6.,  8., 10.])\n"
          ]
        }
      ],
      "source": [
        "a=torch.tensor([1.,2.,3.,4.,5.],requires_grad=True)\n",
        "L=torch.sum(a*a)\n",
        "L.backward()\n",
        "print(L)\n",
        "print(a.grad)"
      ]
    },
    {
      "cell_type": "markdown",
      "metadata": {
        "id": "Eu8D6lL9UHVi"
      },
      "source": [
        "<hr>\n",
        "You can do many crazy things with autograd!\n",
        "\n",
        "What you run as python code is what you differentiate.\n",
        "\n"
      ]
    },
    {
      "cell_type": "code",
      "execution_count": 20,
      "metadata": {
        "jupyter": {
          "outputs_hidden": false
        },
        "id": "AEJpnRqzUHVi",
        "colab": {
          "base_uri": "https://localhost:8080/",
          "height": 1000
        },
        "outputId": "66012b6f-f984-424a-d3f0-cbdefdaaec30"
      },
      "outputs": [
        {
          "output_type": "stream",
          "name": "stdout",
          "text": [
            "tensor([ 2.2155, -0.3304,  1.9977], requires_grad=True)\n",
            "tensor(1536.7172, grad_fn=<LinalgVectorNormBackward0>)\n"
          ]
        },
        {
          "output_type": "execute_result",
          "data": {
            "image/svg+xml": "<?xml version=\"1.0\" encoding=\"UTF-8\" standalone=\"no\"?>\n<!DOCTYPE svg PUBLIC \"-//W3C//DTD SVG 1.1//EN\"\n \"http://www.w3.org/Graphics/SVG/1.1/DTD/svg11.dtd\">\n<!-- Generated by graphviz version 2.43.0 (0)\n -->\n<!-- Title: %3 Pages: 1 -->\n<svg width=\"175pt\" height=\"711pt\"\n viewBox=\"0.00 0.00 175.00 711.00\" xmlns=\"http://www.w3.org/2000/svg\" xmlns:xlink=\"http://www.w3.org/1999/xlink\">\n<g id=\"graph0\" class=\"graph\" transform=\"scale(1 1) rotate(0) translate(4 707)\">\n<title>%3</title>\n<polygon fill=\"white\" stroke=\"transparent\" points=\"-4,4 -4,-707 171,-707 171,4 -4,4\"/>\n<!-- 139732332535280 -->\n<g id=\"node1\" class=\"node\">\n<title>139732332535280</title>\n<polygon fill=\"#caff70\" stroke=\"black\" points=\"110.5,-31 56.5,-31 56.5,0 110.5,0 110.5,-31\"/>\n<text text-anchor=\"middle\" x=\"83.5\" y=\"-7\" font-family=\"monospace\" font-size=\"10.00\"> ()</text>\n</g>\n<!-- 139732332793424 -->\n<g id=\"node2\" class=\"node\">\n<title>139732332793424</title>\n<polygon fill=\"lightgrey\" stroke=\"black\" points=\"167,-86 0,-86 0,-67 167,-67 167,-86\"/>\n<text text-anchor=\"middle\" x=\"83.5\" y=\"-74\" font-family=\"monospace\" font-size=\"10.00\">LinalgVectorNormBackward0</text>\n</g>\n<!-- 139732332793424&#45;&gt;139732332535280 -->\n<g id=\"edge12\" class=\"edge\">\n<title>139732332793424&#45;&gt;139732332535280</title>\n<path fill=\"none\" stroke=\"black\" d=\"M83.5,-66.79C83.5,-60.07 83.5,-50.4 83.5,-41.34\"/>\n<polygon fill=\"black\" stroke=\"black\" points=\"87,-41.19 83.5,-31.19 80,-41.19 87,-41.19\"/>\n</g>\n<!-- 139732332792464 -->\n<g id=\"node3\" class=\"node\">\n<title>139732332792464</title>\n<polygon fill=\"lightgrey\" stroke=\"black\" points=\"128,-141 39,-141 39,-122 128,-122 128,-141\"/>\n<text text-anchor=\"middle\" x=\"83.5\" y=\"-129\" font-family=\"monospace\" font-size=\"10.00\">MulBackward0</text>\n</g>\n<!-- 139732332792464&#45;&gt;139732332793424 -->\n<g id=\"edge1\" class=\"edge\">\n<title>139732332792464&#45;&gt;139732332793424</title>\n<path fill=\"none\" stroke=\"black\" d=\"M83.5,-121.75C83.5,-114.8 83.5,-104.85 83.5,-96.13\"/>\n<polygon fill=\"black\" stroke=\"black\" points=\"87,-96.09 83.5,-86.09 80,-96.09 87,-96.09\"/>\n</g>\n<!-- 139732332792944 -->\n<g id=\"node4\" class=\"node\">\n<title>139732332792944</title>\n<polygon fill=\"lightgrey\" stroke=\"black\" points=\"128,-196 39,-196 39,-177 128,-177 128,-196\"/>\n<text text-anchor=\"middle\" x=\"83.5\" y=\"-184\" font-family=\"monospace\" font-size=\"10.00\">MulBackward0</text>\n</g>\n<!-- 139732332792944&#45;&gt;139732332792464 -->\n<g id=\"edge2\" class=\"edge\">\n<title>139732332792944&#45;&gt;139732332792464</title>\n<path fill=\"none\" stroke=\"black\" d=\"M83.5,-176.75C83.5,-169.8 83.5,-159.85 83.5,-151.13\"/>\n<polygon fill=\"black\" stroke=\"black\" points=\"87,-151.09 83.5,-141.09 80,-151.09 87,-151.09\"/>\n</g>\n<!-- 139732332790016 -->\n<g id=\"node5\" class=\"node\">\n<title>139732332790016</title>\n<polygon fill=\"lightgrey\" stroke=\"black\" points=\"128,-251 39,-251 39,-232 128,-232 128,-251\"/>\n<text text-anchor=\"middle\" x=\"83.5\" y=\"-239\" font-family=\"monospace\" font-size=\"10.00\">MulBackward0</text>\n</g>\n<!-- 139732332790016&#45;&gt;139732332792944 -->\n<g id=\"edge3\" class=\"edge\">\n<title>139732332790016&#45;&gt;139732332792944</title>\n<path fill=\"none\" stroke=\"black\" d=\"M83.5,-231.75C83.5,-224.8 83.5,-214.85 83.5,-206.13\"/>\n<polygon fill=\"black\" stroke=\"black\" points=\"87,-206.09 83.5,-196.09 80,-206.09 87,-206.09\"/>\n</g>\n<!-- 139732332791792 -->\n<g id=\"node6\" class=\"node\">\n<title>139732332791792</title>\n<polygon fill=\"lightgrey\" stroke=\"black\" points=\"128,-306 39,-306 39,-287 128,-287 128,-306\"/>\n<text text-anchor=\"middle\" x=\"83.5\" y=\"-294\" font-family=\"monospace\" font-size=\"10.00\">MulBackward0</text>\n</g>\n<!-- 139732332791792&#45;&gt;139732332790016 -->\n<g id=\"edge4\" class=\"edge\">\n<title>139732332791792&#45;&gt;139732332790016</title>\n<path fill=\"none\" stroke=\"black\" d=\"M83.5,-286.75C83.5,-279.8 83.5,-269.85 83.5,-261.13\"/>\n<polygon fill=\"black\" stroke=\"black\" points=\"87,-261.09 83.5,-251.09 80,-261.09 87,-261.09\"/>\n</g>\n<!-- 139732332794000 -->\n<g id=\"node7\" class=\"node\">\n<title>139732332794000</title>\n<polygon fill=\"lightgrey\" stroke=\"black\" points=\"128,-361 39,-361 39,-342 128,-342 128,-361\"/>\n<text text-anchor=\"middle\" x=\"83.5\" y=\"-349\" font-family=\"monospace\" font-size=\"10.00\">MulBackward0</text>\n</g>\n<!-- 139732332794000&#45;&gt;139732332791792 -->\n<g id=\"edge5\" class=\"edge\">\n<title>139732332794000&#45;&gt;139732332791792</title>\n<path fill=\"none\" stroke=\"black\" d=\"M83.5,-341.75C83.5,-334.8 83.5,-324.85 83.5,-316.13\"/>\n<polygon fill=\"black\" stroke=\"black\" points=\"87,-316.09 83.5,-306.09 80,-316.09 87,-316.09\"/>\n</g>\n<!-- 139732332791744 -->\n<g id=\"node8\" class=\"node\">\n<title>139732332791744</title>\n<polygon fill=\"lightgrey\" stroke=\"black\" points=\"128,-416 39,-416 39,-397 128,-397 128,-416\"/>\n<text text-anchor=\"middle\" x=\"83.5\" y=\"-404\" font-family=\"monospace\" font-size=\"10.00\">MulBackward0</text>\n</g>\n<!-- 139732332791744&#45;&gt;139732332794000 -->\n<g id=\"edge6\" class=\"edge\">\n<title>139732332791744&#45;&gt;139732332794000</title>\n<path fill=\"none\" stroke=\"black\" d=\"M83.5,-396.75C83.5,-389.8 83.5,-379.85 83.5,-371.13\"/>\n<polygon fill=\"black\" stroke=\"black\" points=\"87,-371.09 83.5,-361.09 80,-371.09 87,-371.09\"/>\n</g>\n<!-- 139732332792176 -->\n<g id=\"node9\" class=\"node\">\n<title>139732332792176</title>\n<polygon fill=\"lightgrey\" stroke=\"black\" points=\"128,-471 39,-471 39,-452 128,-452 128,-471\"/>\n<text text-anchor=\"middle\" x=\"83.5\" y=\"-459\" font-family=\"monospace\" font-size=\"10.00\">MulBackward0</text>\n</g>\n<!-- 139732332792176&#45;&gt;139732332791744 -->\n<g id=\"edge7\" class=\"edge\">\n<title>139732332792176&#45;&gt;139732332791744</title>\n<path fill=\"none\" stroke=\"black\" d=\"M83.5,-451.75C83.5,-444.8 83.5,-434.85 83.5,-426.13\"/>\n<polygon fill=\"black\" stroke=\"black\" points=\"87,-426.09 83.5,-416.09 80,-426.09 87,-426.09\"/>\n</g>\n<!-- 139732332793616 -->\n<g id=\"node10\" class=\"node\">\n<title>139732332793616</title>\n<polygon fill=\"lightgrey\" stroke=\"black\" points=\"128,-526 39,-526 39,-507 128,-507 128,-526\"/>\n<text text-anchor=\"middle\" x=\"83.5\" y=\"-514\" font-family=\"monospace\" font-size=\"10.00\">MulBackward0</text>\n</g>\n<!-- 139732332793616&#45;&gt;139732332792176 -->\n<g id=\"edge8\" class=\"edge\">\n<title>139732332793616&#45;&gt;139732332792176</title>\n<path fill=\"none\" stroke=\"black\" d=\"M83.5,-506.75C83.5,-499.8 83.5,-489.85 83.5,-481.13\"/>\n<polygon fill=\"black\" stroke=\"black\" points=\"87,-481.09 83.5,-471.09 80,-481.09 87,-481.09\"/>\n</g>\n<!-- 139732332794288 -->\n<g id=\"node11\" class=\"node\">\n<title>139732332794288</title>\n<polygon fill=\"lightgrey\" stroke=\"black\" points=\"128,-581 39,-581 39,-562 128,-562 128,-581\"/>\n<text text-anchor=\"middle\" x=\"83.5\" y=\"-569\" font-family=\"monospace\" font-size=\"10.00\">MulBackward0</text>\n</g>\n<!-- 139732332794288&#45;&gt;139732332793616 -->\n<g id=\"edge9\" class=\"edge\">\n<title>139732332794288&#45;&gt;139732332793616</title>\n<path fill=\"none\" stroke=\"black\" d=\"M83.5,-561.75C83.5,-554.8 83.5,-544.85 83.5,-536.13\"/>\n<polygon fill=\"black\" stroke=\"black\" points=\"87,-536.09 83.5,-526.09 80,-536.09 87,-536.09\"/>\n</g>\n<!-- 139732332794384 -->\n<g id=\"node12\" class=\"node\">\n<title>139732332794384</title>\n<polygon fill=\"lightgrey\" stroke=\"black\" points=\"134,-636 33,-636 33,-617 134,-617 134,-636\"/>\n<text text-anchor=\"middle\" x=\"83.5\" y=\"-624\" font-family=\"monospace\" font-size=\"10.00\">AccumulateGrad</text>\n</g>\n<!-- 139732332794384&#45;&gt;139732332794288 -->\n<g id=\"edge10\" class=\"edge\">\n<title>139732332794384&#45;&gt;139732332794288</title>\n<path fill=\"none\" stroke=\"black\" d=\"M83.5,-616.75C83.5,-609.8 83.5,-599.85 83.5,-591.13\"/>\n<polygon fill=\"black\" stroke=\"black\" points=\"87,-591.09 83.5,-581.09 80,-591.09 87,-591.09\"/>\n</g>\n<!-- 139732343655216 -->\n<g id=\"node13\" class=\"node\">\n<title>139732343655216</title>\n<polygon fill=\"lightblue\" stroke=\"black\" points=\"110.5,-703 56.5,-703 56.5,-672 110.5,-672 110.5,-703\"/>\n<text text-anchor=\"middle\" x=\"83.5\" y=\"-679\" font-family=\"monospace\" font-size=\"10.00\"> (3)</text>\n</g>\n<!-- 139732343655216&#45;&gt;139732332794384 -->\n<g id=\"edge11\" class=\"edge\">\n<title>139732343655216&#45;&gt;139732332794384</title>\n<path fill=\"none\" stroke=\"black\" d=\"M83.5,-671.92C83.5,-664.22 83.5,-654.69 83.5,-646.43\"/>\n<polygon fill=\"black\" stroke=\"black\" points=\"87,-646.25 83.5,-636.25 80,-646.25 87,-646.25\"/>\n</g>\n</g>\n</svg>\n",
            "text/plain": [
              "<graphviz.graphs.Digraph at 0x7f15f80f48b0>"
            ]
          },
          "metadata": {},
          "execution_count": 20
        }
      ],
      "source": [
        "x = torch.randn(3, requires_grad=True)\n",
        "print(x)\n",
        "y = x * 2\n",
        "while y.data.norm() < 1000:\n",
        "    y = y * 2\n",
        "y=y.norm()\n",
        "print(y)\n",
        "make_dot(y)"
      ]
    },
    {
      "cell_type": "code",
      "execution_count": 21,
      "metadata": {
        "jupyter": {
          "outputs_hidden": false
        },
        "id": "lGqCjFVYUHVi",
        "colab": {
          "base_uri": "https://localhost:8080/"
        },
        "outputId": "bac6d87a-c541-431e-800b-db876e2f71bf"
      },
      "outputs": [
        {
          "output_type": "stream",
          "name": "stdout",
          "text": [
            "tensor([377.9416, -56.3699, 340.7736])\n"
          ]
        }
      ],
      "source": [
        "y.backward()\n",
        "print(x.grad)"
      ]
    },
    {
      "cell_type": "markdown",
      "metadata": {
        "id": "4k3hLjXDUHVi"
      },
      "source": [
        "You can also stop autograd from tracking history on Tensors\n",
        "with ``.requires_grad``=True by wrapping the code block in\n",
        "``with torch.no_grad():``\n",
        "\n"
      ]
    },
    {
      "cell_type": "code",
      "execution_count": 22,
      "metadata": {
        "jupyter": {
          "outputs_hidden": false
        },
        "id": "ST6rtET7UHVi",
        "colab": {
          "base_uri": "https://localhost:8080/"
        },
        "outputId": "d6de1446-1c49-4c6c-c68d-a507ab4b05d5"
      },
      "outputs": [
        {
          "output_type": "stream",
          "name": "stdout",
          "text": [
            "True\n",
            "True\n",
            "False\n"
          ]
        }
      ],
      "source": [
        "print(x.requires_grad)\n",
        "print((x ** 2).requires_grad)\n",
        "\n",
        "with torch.no_grad():\n",
        "\tprint((x ** 2).requires_grad)"
      ]
    },
    {
      "cell_type": "markdown",
      "metadata": {
        "id": "HQ1chZ6sUHVi"
      },
      "source": [
        "**Read Later:**\n",
        "\n",
        "Documentation of ``autograd`` and ``Function`` is at\n",
        "http://pytorch.org/docs/autograd\n",
        "\n",
        "The argument of the backward method is multiplied with the final gradient.\n",
        "Typically, we just leave it empty but it can be used to manipulate gradients."
      ]
    },
    {
      "cell_type": "code",
      "execution_count": 36,
      "metadata": {
        "id": "poxT8mVuUHVi",
        "colab": {
          "base_uri": "https://localhost:8080/"
        },
        "outputId": "ebed2a47-51b1-4912-e15b-c4781e138f93"
      },
      "outputs": [
        {
          "output_type": "stream",
          "name": "stdout",
          "text": [
            "A tensor([[1., 2.],\n",
            "        [3., 4.]], requires_grad=True)\n",
            "B tensor([[ 7., 10.],\n",
            "        [15., 22.]], grad_fn=<MmBackward0>)\n",
            "tensor([[2., 3.],\n",
            "        [2., 0.]])\n"
          ]
        }
      ],
      "source": [
        "A=torch.tensor([[1.,2.],[3.,4.]],requires_grad=True)\n",
        "print('A',A)\n",
        "# matrix multiplication\n",
        "B=torch.mm(A,A)\n",
        "print('B',B)\n",
        "l=B[0,0]\n",
        "l.backward()\n",
        "# l is 1-dim\n",
        "# By the rules of matrix mult.\n",
        "# B[0,0] depends on A[0,0],A[1,0] and A[0,1] but not on A[1,1]\n",
        "# therefor A.grad[1,1] is zero\n",
        "print(A.grad)"
      ]
    },
    {
      "cell_type": "code",
      "source": [
        "# the same but for l.shape=(2,2)\n",
        "A=torch.tensor([[1.,2.],[3.,4.]],requires_grad=True)\n",
        "print('\\nA',A)\n",
        "B=torch.mm(A,A)\n",
        "print('B',B)\n",
        "l=B\n",
        "# now l is not a scalar but a 2x2 tensor\n",
        "# the chain of derivatives is multiplied with the backward argument\n",
        "# This allows to combine derivative calculations etc. or here to select some gradient\n",
        "# l.backward() would give: RuntimeError: grad can be implicitly created only for scalar outputs\n",
        "l.backward(torch.tensor([[1.,0],[0,0]]))\n",
        "print(A.grad)"
      ],
      "metadata": {
        "colab": {
          "base_uri": "https://localhost:8080/"
        },
        "id": "yciBgbDvxdTT",
        "outputId": "d7426473-4348-4159-f2a4-47096266d0eb"
      },
      "execution_count": 40,
      "outputs": [
        {
          "output_type": "stream",
          "name": "stdout",
          "text": [
            "\n",
            "A tensor([[1., 2.],\n",
            "        [3., 4.]], requires_grad=True)\n",
            "B tensor([[ 7., 10.],\n",
            "        [15., 22.]], grad_fn=<MmBackward0>)\n",
            "tensor([[2., 3.],\n",
            "        [2., 0.]])\n"
          ]
        }
      ]
    },
    {
      "cell_type": "code",
      "source": [
        "# the same but for l.shape=(2,2)\n",
        "A=torch.tensor([[1.,2.],[3.,4.]],requires_grad=True)\n",
        "print('\\nA',A)\n",
        "B=torch.mm(A,A)\n",
        "print('B',B)\n",
        "l=B\n",
        "# now l is not a scalar but a 2x2 tensor\n",
        "# the chain of derivatives is multiplied with the backward argument\n",
        "# This allows to combine derivative calculations etc. or here to select some gradient\n",
        "l.backward(torch.tensor([[1.,0],[0,0]]))\n",
        "print(A.grad)"
      ],
      "metadata": {
        "colab": {
          "base_uri": "https://localhost:8080/"
        },
        "id": "zpbYaTrfwgGO",
        "outputId": "61f0df06-5097-453a-e1fd-f4366f22fb6e"
      },
      "execution_count": 37,
      "outputs": [
        {
          "output_type": "stream",
          "name": "stdout",
          "text": [
            "\n",
            "A tensor([[1., 2.],\n",
            "        [3., 4.]], requires_grad=True)\n",
            "B tensor([[ 7., 10.],\n",
            "        [15., 22.]], grad_fn=<MmBackward0>)\n",
            "tensor([[2., 3.],\n",
            "        [2., 0.]])\n"
          ]
        }
      ]
    },
    {
      "cell_type": "code",
      "source": [],
      "metadata": {
        "id": "rgpgQYt3vTfy"
      },
      "execution_count": 33,
      "outputs": []
    },
    {
      "cell_type": "markdown",
      "metadata": {
        "id": "U8SXf2qZUHVi"
      },
      "source": [
        "### We can also get higher derivatives\n",
        "\n",
        "torch.autograd.grad can be used to calculate derivatives of functions and can be used to define second or higher derivatives. The concept here is to tell autograd.grad to create a computational graph on which the backward() is then applied for the second derivateive etc."
      ]
    },
    {
      "cell_type": "code",
      "execution_count": 43,
      "metadata": {
        "id": "67G-aU-PUHVi",
        "colab": {
          "base_uri": "https://localhost:8080/"
        },
        "outputId": "87258bf3-52aa-40b2-93c6-5e63cca6831d"
      },
      "outputs": [
        {
          "output_type": "stream",
          "name": "stdout",
          "text": [
            "x tensor(2., requires_grad=True) - x.grad None\n",
            "y tensor(8., grad_fn=<PowBackward0>)\n",
            "--- grad ---\n",
            "a tensor(12., grad_fn=<MulBackward0>)\n",
            "x tensor(2., requires_grad=True) - x.grad None\n",
            "--- backward ---\n",
            "x tensor(2., requires_grad=True) - x.grad tensor(12.)\n"
          ]
        }
      ],
      "source": [
        "# torch.autograd.grad for higher derivatives\n",
        "# a scalar\n",
        "x = torch.tensor(2., requires_grad=True)\n",
        "y=x**3\n",
        "print( 'x',x,'- x.grad',x.grad)\n",
        "print( 'y',y)\n",
        "print( '--- grad ---')\n",
        "# autograd.grad() can create graph as any other operation that can be passed by x.backward later\n",
        "a=torch.autograd.grad(outputs=y, inputs=x, create_graph=True)[0] # 3*x**2 returns a 1-dim list\n",
        "print('a',a)\n",
        "print('x',x,'- x.grad',x.grad)\n",
        "#not need x.grad.data.zero_()\n",
        "print('--- backward ---')\n",
        "a.backward() # 2*3*x - x,grad is now second derivative\n",
        "print( 'x',x,'- x.grad',x.grad)"
      ]
    },
    {
      "cell_type": "code",
      "execution_count": 44,
      "metadata": {
        "id": "3WEioACKUHVi",
        "colab": {
          "base_uri": "https://localhost:8080/"
        },
        "outputId": "c5d0b8d9-c64d-47bd-9f72-e027a5dea14d"
      },
      "outputs": [
        {
          "output_type": "stream",
          "name": "stdout",
          "text": [
            "x tensor(2., requires_grad=True) - x.grad None\n",
            "y tensor(0.9640, grad_fn=<TanhBackward0>)\n",
            "--- grad ---\n",
            "a tensor(0.0707, grad_fn=<TanhBackwardBackward0>)\n",
            "x tensor(2., requires_grad=True) - x.grad None\n",
            "--- backward ---\n",
            "x tensor(2., requires_grad=True) - x.grad tensor(-0.1362) tensor(1.)\n"
          ]
        }
      ],
      "source": [
        "# torch.autograd.grad for higher derivatives\n",
        "# 1d now for tanh(x)\n",
        "x = torch.tensor(2., requires_grad=True)\n",
        "y=torch.tanh(x)\n",
        "print( 'x',x,'- x.grad',x.grad)\n",
        "print( 'y',y)\n",
        "print( '--- grad ---')\n",
        "# create graph as any other operation that can be passed by x.backward later\n",
        "a=torch.autograd.grad(outputs=y, inputs=x, create_graph=True)[0] # 3*x**2 returns a 1-dim list\n",
        "print( 'a',a)\n",
        "print( 'x',x,'- x.grad',x.grad)\n",
        "#not need x.grad.data.zero_()\n",
        "print( '--- backward ---')\n",
        "d=torch.ones_like(x)\n",
        "a.backward(d) # 2*3*x - x,grad is now second derivative\n",
        "print( 'x',x,'- x.grad',x.grad,d)"
      ]
    },
    {
      "cell_type": "code",
      "execution_count": 45,
      "metadata": {
        "id": "8FkIdtWxUHVj"
      },
      "outputs": [],
      "source": [
        "import torch\n",
        "import numpy as np\n",
        "from matplotlib import pyplot as plt\n",
        "plt.style.use('dark_background')\n",
        "from torch.autograd import grad"
      ]
    },
    {
      "cell_type": "code",
      "execution_count": 46,
      "metadata": {
        "id": "er62vkNCUHVj",
        "colab": {
          "base_uri": "https://localhost:8080/",
          "height": 447
        },
        "outputId": "43398196-3a48-45f4-b7aa-476e9f4cf776"
      },
      "outputs": [
        {
          "output_type": "execute_result",
          "data": {
            "text/plain": [
              "[<matplotlib.lines.Line2D at 0x7f15f7fc9ed0>]"
            ]
          },
          "metadata": {},
          "execution_count": 46
        },
        {
          "output_type": "display_data",
          "data": {
            "text/plain": [
              "<Figure size 640x480 with 1 Axes>"
            ],
            "image/png": "[encoded data removed]"
          },
          "metadata": {}
        }
      ],
      "source": [
        "# function and first derivative\n",
        "xrange=np.linspace(-3,3,100)\n",
        "x=torch.tensor(xrange,requires_grad=True)\n",
        "y=torch.tanh(x)\n",
        "y.backward(torch.ones_like(x))  # backward(x) screwed up\n",
        "plt.plot(xrange, y.detach().numpy())\n",
        "plt.plot(xrange, x.grad.numpy())"
      ]
    },
    {
      "cell_type": "code",
      "execution_count": 47,
      "metadata": {
        "id": "z9_eCTbsUHVj",
        "colab": {
          "base_uri": "https://localhost:8080/",
          "height": 447
        },
        "outputId": "cd53e20e-60f3-476e-baf1-fbb4e34951de"
      },
      "outputs": [
        {
          "output_type": "execute_result",
          "data": {
            "text/plain": [
              "[<matplotlib.lines.Line2D at 0x7f15f73e2950>]"
            ]
          },
          "metadata": {},
          "execution_count": 47
        },
        {
          "output_type": "display_data",
          "data": {
            "text/plain": [
              "<Figure size 640x480 with 1 Axes>"
            ],
            "image/png": "[encoded data removed]"
          },
          "metadata": {}
        }
      ],
      "source": [
        "# function and second derivative\n",
        "xrange=np.linspace(-3,3,100)\n",
        "x=torch.tensor(xrange,requires_grad=True)\n",
        "y=torch.tanh(x)\n",
        "# output f(x), input x, grad_outputs=defines shape\n",
        "# create graph for derivative calculation\n",
        "ox=torch.ones_like(x)\n",
        "a=torch.autograd.grad(outputs=y, inputs=x,\n",
        "                      grad_outputs=ox,\n",
        "                      create_graph=True)[0] # returns a 1-dim list\n",
        "y.backward(ox,retain_graph=True)\n",
        "plt.plot(xrange, y.detach().numpy())\n",
        "plt.plot(xrange, x.grad.numpy())\n",
        "x.grad.data.zero_()\n",
        "a.backward(torch.ones_like(x))\n",
        "plt.plot(xrange, x.grad.numpy())"
      ]
    },
    {
      "cell_type": "code",
      "execution_count": 48,
      "metadata": {
        "id": "LQ60fBl1UHVj",
        "colab": {
          "base_uri": "https://localhost:8080/",
          "height": 447
        },
        "outputId": "3b98513f-c97e-4bad-9df7-f4936437b89d"
      },
      "outputs": [
        {
          "output_type": "execute_result",
          "data": {
            "text/plain": [
              "[<matplotlib.lines.Line2D at 0x7f15f525c850>]"
            ]
          },
          "metadata": {},
          "execution_count": 48
        },
        {
          "output_type": "display_data",
          "data": {
            "text/plain": [
              "<Figure size 640x480 with 1 Axes>"
            ],
            "image/png": "[encoded data removed]"
          },
          "metadata": {}
        }
      ],
      "source": [
        "# function and third derivative\n",
        "xrange=np.linspace(-7,7,100)\n",
        "x=torch.tensor(xrange,requires_grad=True)\n",
        "y=torch.tanh(x)\n",
        "# output f(x), input x, grad_outputs=defines shape\n",
        "# create graph for derivative calculation\n",
        "ox=torch.ones_like(x) # derivative pattern\n",
        "a=torch.autograd.grad(outputs=y, inputs=x,\n",
        "                      grad_outputs=ox,\n",
        "                      create_graph=True)[0] # returns a 1-dim list\n",
        "b=torch.autograd.grad(outputs=a, inputs=x,\n",
        "                      grad_outputs=ox,\n",
        "                      create_graph=True)[0] # returns a 1-dim list\n",
        "y.backward(ox,retain_graph=True)\n",
        "plt.plot(xrange, y.detach().numpy())\n",
        "plt.plot(xrange, x.grad.numpy())\n",
        "x.grad.data.zero_()\n",
        "a.backward(ox,retain_graph=True)\n",
        "plt.plot(xrange, x.grad.numpy())\n",
        "x.grad.data.zero_()\n",
        "b.backward(torch.ones_like(x),retain_graph=True)\n",
        "plt.plot(xrange, x.grad.numpy())"
      ]
    },
    {
      "cell_type": "code",
      "execution_count": 50,
      "metadata": {
        "id": "l2pMSXRmUHVj",
        "colab": {
          "base_uri": "https://localhost:8080/",
          "height": 504
        },
        "outputId": "eb9ca8cf-7618-464b-b8b8-c4ea31e8b1e8"
      },
      "outputs": [
        {
          "output_type": "stream",
          "name": "stdout",
          "text": [
            "x tensor(-2., requires_grad=True) - x.grad None\n",
            "y tensor(-0.9640, grad_fn=<TanhBackward0>)\n",
            "--- grad ---\n",
            "a\n",
            "x tensor(-2., requires_grad=True) - x.grad None\n",
            "--- backward ---\n",
            "x tensor(-2., requires_grad=True) - x.grad tensor(0.1362)\n"
          ]
        },
        {
          "output_type": "execute_result",
          "data": {
            "image/svg+xml": "<?xml version=\"1.0\" encoding=\"UTF-8\" standalone=\"no\"?>\n<!DOCTYPE svg PUBLIC \"-//W3C//DTD SVG 1.1//EN\"\n \"http://www.w3.org/Graphics/SVG/1.1/DTD/svg11.dtd\">\n<!-- Generated by graphviz version 2.43.0 (0)\n -->\n<!-- Title: %3 Pages: 1 -->\n<svg width=\"151pt\" height=\"271pt\"\n viewBox=\"0.00 0.00 151.00 271.00\" xmlns=\"http://www.w3.org/2000/svg\" xmlns:xlink=\"http://www.w3.org/1999/xlink\">\n<g id=\"graph0\" class=\"graph\" transform=\"scale(1 1) rotate(0) translate(4 267)\">\n<title>%3</title>\n<polygon fill=\"white\" stroke=\"transparent\" points=\"-4,4 -4,-267 147,-267 147,4 -4,4\"/>\n<!-- 139732284377264 -->\n<g id=\"node1\" class=\"node\">\n<title>139732284377264</title>\n<polygon fill=\"#caff70\" stroke=\"black\" points=\"98.5,-31 44.5,-31 44.5,0 98.5,0 98.5,-31\"/>\n<text text-anchor=\"middle\" x=\"71.5\" y=\"-7\" font-family=\"monospace\" font-size=\"10.00\"> ()</text>\n</g>\n<!-- 139732284291632 -->\n<g id=\"node2\" class=\"node\">\n<title>139732284291632</title>\n<polygon fill=\"lightgrey\" stroke=\"black\" points=\"143,-86 0,-86 0,-67 143,-67 143,-86\"/>\n<text text-anchor=\"middle\" x=\"71.5\" y=\"-74\" font-family=\"monospace\" font-size=\"10.00\">TanhBackwardBackward0</text>\n</g>\n<!-- 139732284291632&#45;&gt;139732284377264 -->\n<g id=\"edge4\" class=\"edge\">\n<title>139732284291632&#45;&gt;139732284377264</title>\n<path fill=\"none\" stroke=\"black\" d=\"M71.5,-66.79C71.5,-60.07 71.5,-50.4 71.5,-41.34\"/>\n<polygon fill=\"black\" stroke=\"black\" points=\"75,-41.19 71.5,-31.19 68,-41.19 75,-41.19\"/>\n</g>\n<!-- 139732284291680 -->\n<g id=\"node3\" class=\"node\">\n<title>139732284291680</title>\n<polygon fill=\"lightgrey\" stroke=\"black\" points=\"119,-141 24,-141 24,-122 119,-122 119,-141\"/>\n<text text-anchor=\"middle\" x=\"71.5\" y=\"-129\" font-family=\"monospace\" font-size=\"10.00\">TanhBackward0</text>\n</g>\n<!-- 139732284291680&#45;&gt;139732284291632 -->\n<g id=\"edge1\" class=\"edge\">\n<title>139732284291680&#45;&gt;139732284291632</title>\n<path fill=\"none\" stroke=\"black\" d=\"M71.5,-121.75C71.5,-114.8 71.5,-104.85 71.5,-96.13\"/>\n<polygon fill=\"black\" stroke=\"black\" points=\"75,-96.09 71.5,-86.09 68,-96.09 75,-96.09\"/>\n</g>\n<!-- 139732284292016 -->\n<g id=\"node4\" class=\"node\">\n<title>139732284292016</title>\n<polygon fill=\"lightgrey\" stroke=\"black\" points=\"122,-196 21,-196 21,-177 122,-177 122,-196\"/>\n<text text-anchor=\"middle\" x=\"71.5\" y=\"-184\" font-family=\"monospace\" font-size=\"10.00\">AccumulateGrad</text>\n</g>\n<!-- 139732284292016&#45;&gt;139732284291680 -->\n<g id=\"edge2\" class=\"edge\">\n<title>139732284292016&#45;&gt;139732284291680</title>\n<path fill=\"none\" stroke=\"black\" d=\"M71.5,-176.75C71.5,-169.8 71.5,-159.85 71.5,-151.13\"/>\n<polygon fill=\"black\" stroke=\"black\" points=\"75,-151.09 71.5,-141.09 68,-151.09 75,-151.09\"/>\n</g>\n<!-- 139732283721904 -->\n<g id=\"node5\" class=\"node\">\n<title>139732283721904</title>\n<polygon fill=\"lightblue\" stroke=\"black\" points=\"98.5,-263 44.5,-263 44.5,-232 98.5,-232 98.5,-263\"/>\n<text text-anchor=\"middle\" x=\"71.5\" y=\"-239\" font-family=\"monospace\" font-size=\"10.00\"> ()</text>\n</g>\n<!-- 139732283721904&#45;&gt;139732284292016 -->\n<g id=\"edge3\" class=\"edge\">\n<title>139732283721904&#45;&gt;139732284292016</title>\n<path fill=\"none\" stroke=\"black\" d=\"M71.5,-231.92C71.5,-224.22 71.5,-214.69 71.5,-206.43\"/>\n<polygon fill=\"black\" stroke=\"black\" points=\"75,-206.25 71.5,-196.25 68,-206.25 75,-206.25\"/>\n</g>\n</g>\n</svg>\n",
            "text/plain": [
              "<graphviz.graphs.Digraph at 0x7f15f52b3a00>"
            ]
          },
          "metadata": {},
          "execution_count": 50
        }
      ],
      "source": [
        "# torch.autograd.grad for higher derivatives\n",
        "x = torch.tensor(-2., requires_grad=True)\n",
        "y = torch.tanh(x)\n",
        "print('x',x,'- x.grad',x.grad)\n",
        "print('y',y)\n",
        "print('--- grad ---')\n",
        "# create graph as any other operation that can be passed by x.backward later\n",
        "a=torch.autograd.grad(outputs=y, inputs=x, grad_outputs=torch.ones_like(x),create_graph=True)[0] # 3*x**2 returns a 1-dim list\n",
        "print('a')\n",
        "print('x',x,'- x.grad',x.grad)\n",
        "#not need x.grad.data.zero_()\n",
        "print('--- backward ---')\n",
        "a.backward(torch.ones_like(x)) # 2*3*x - x,grad is now second derivative\n",
        "print('x',x,'- x.grad',x.grad)\n",
        "make_dot(a)"
      ]
    },
    {
      "cell_type": "code",
      "execution_count": null,
      "metadata": {
        "id": "Fiw-6JPpUHVj"
      },
      "outputs": [],
      "source": []
    }
  ],
  "metadata": {
    "kernelspec": {
      "display_name": "Python 3 (ipykernel)",
      "language": "python",
      "name": "python3"
    },
    "language_info": {
      "codemirror_mode": {
        "name": "ipython",
        "version": 3
      },
      "file_extension": ".py",
      "mimetype": "text/x-python",
      "name": "python",
      "nbconvert_exporter": "python",
      "pygments_lexer": "ipython3",
      "version": "3.9.16"
    },
    "colab": {
      "provenance": [],
      "include_colab_link": true
    }
  },
  "nbformat": 4,
  "nbformat_minor": 0
}